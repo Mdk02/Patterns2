{
 "cells": [
  {
   "cell_type": "code",
   "execution_count": 28,
   "id": "bf00974c",
   "metadata": {},
   "outputs": [],
   "source": [
    "import pandas as pd\n",
    "import numpy as np\n",
    "from pymystem3 import Mystem\n",
    "import nltk\n",
    "import re"
   ]
  },
  {
   "cell_type": "code",
   "execution_count": 3,
   "id": "f8ea2de2",
   "metadata": {},
   "outputs": [
    {
     "name": "stderr",
     "output_type": "stream",
     "text": [
      "C:\\Users\\1\\AppData\\Local\\Temp\\ipykernel_6204\\2948258669.py:1: DtypeWarning: Columns (3) have mixed types. Specify dtype option on import or set low_memory=False.\n",
      "  data = pd.read_csv('data.csv')\n"
     ]
    }
   ],
   "source": [
    "data = pd.read_csv('data.csv')"
   ]
  },
  {
   "cell_type": "code",
   "execution_count": 4,
   "id": "3b6cc275",
   "metadata": {
    "scrolled": true
   },
   "outputs": [
    {
     "data": {
      "text/html": [
       "<div>\n",
       "<style scoped>\n",
       "    .dataframe tbody tr th:only-of-type {\n",
       "        vertical-align: middle;\n",
       "    }\n",
       "\n",
       "    .dataframe tbody tr th {\n",
       "        vertical-align: top;\n",
       "    }\n",
       "\n",
       "    .dataframe thead th {\n",
       "        text-align: right;\n",
       "    }\n",
       "</style>\n",
       "<table border=\"1\" class=\"dataframe\">\n",
       "  <thead>\n",
       "    <tr style=\"text-align: right;\">\n",
       "      <th></th>\n",
       "      <th>url</th>\n",
       "      <th>title</th>\n",
       "      <th>text</th>\n",
       "      <th>topic</th>\n",
       "      <th>tags</th>\n",
       "      <th>date</th>\n",
       "    </tr>\n",
       "  </thead>\n",
       "  <tbody>\n",
       "    <tr>\n",
       "      <th>0</th>\n",
       "      <td>https://lenta.ru/news/1914/09/16/hungarnn/</td>\n",
       "      <td>1914. Русские войска вступили в пределы Венгрии</td>\n",
       "      <td>Бои у Сопоцкина и Друскеник закончились отступ...</td>\n",
       "      <td>Библиотека</td>\n",
       "      <td>Первая мировая</td>\n",
       "      <td>1914/09/16</td>\n",
       "    </tr>\n",
       "    <tr>\n",
       "      <th>1</th>\n",
       "      <td>https://lenta.ru/news/1914/09/16/lermontov/</td>\n",
       "      <td>1914. Празднование столетия М.Ю. Лермонтова от...</td>\n",
       "      <td>Министерство народного просвещения, в виду про...</td>\n",
       "      <td>Библиотека</td>\n",
       "      <td>Первая мировая</td>\n",
       "      <td>1914/09/16</td>\n",
       "    </tr>\n",
       "    <tr>\n",
       "      <th>2</th>\n",
       "      <td>https://lenta.ru/news/1914/09/17/nesteroff/</td>\n",
       "      <td>1914. Das ist Nesteroff!</td>\n",
       "      <td>Штабс-капитан П. Н. Нестеров на днях, увидев в...</td>\n",
       "      <td>Библиотека</td>\n",
       "      <td>Первая мировая</td>\n",
       "      <td>1914/09/17</td>\n",
       "    </tr>\n",
       "    <tr>\n",
       "      <th>3</th>\n",
       "      <td>https://lenta.ru/news/1914/09/17/bulldogn/</td>\n",
       "      <td>1914. Бульдог-гонец под Льежем</td>\n",
       "      <td>Фотограф-корреспондент Daily Mirror рассказыва...</td>\n",
       "      <td>Библиотека</td>\n",
       "      <td>Первая мировая</td>\n",
       "      <td>1914/09/17</td>\n",
       "    </tr>\n",
       "    <tr>\n",
       "      <th>4</th>\n",
       "      <td>https://lenta.ru/news/1914/09/18/zver/</td>\n",
       "      <td>1914. Под Люблином пойман швабский зверь</td>\n",
       "      <td>Лица, приехавшие в Варшаву из Люблина, передаю...</td>\n",
       "      <td>Библиотека</td>\n",
       "      <td>Первая мировая</td>\n",
       "      <td>1914/09/18</td>\n",
       "    </tr>\n",
       "  </tbody>\n",
       "</table>\n",
       "</div>"
      ],
      "text/plain": [
       "                                           url  \\\n",
       "0   https://lenta.ru/news/1914/09/16/hungarnn/   \n",
       "1  https://lenta.ru/news/1914/09/16/lermontov/   \n",
       "2  https://lenta.ru/news/1914/09/17/nesteroff/   \n",
       "3   https://lenta.ru/news/1914/09/17/bulldogn/   \n",
       "4       https://lenta.ru/news/1914/09/18/zver/   \n",
       "\n",
       "                                               title  \\\n",
       "0  1914. Русские войска вступили в пределы Венгрии     \n",
       "1  1914. Празднование столетия М.Ю. Лермонтова от...   \n",
       "2                           1914. Das ist Nesteroff!   \n",
       "3                    1914. Бульдог-гонец под Льежем    \n",
       "4           1914. Под Люблином пойман швабский зверь   \n",
       "\n",
       "                                                text       topic  \\\n",
       "0  Бои у Сопоцкина и Друскеник закончились отступ...  Библиотека   \n",
       "1  Министерство народного просвещения, в виду про...  Библиотека   \n",
       "2  Штабс-капитан П. Н. Нестеров на днях, увидев в...  Библиотека   \n",
       "3  Фотограф-корреспондент Daily Mirror рассказыва...  Библиотека   \n",
       "4  Лица, приехавшие в Варшаву из Люблина, передаю...  Библиотека   \n",
       "\n",
       "             tags        date  \n",
       "0  Первая мировая  1914/09/16  \n",
       "1  Первая мировая  1914/09/16  \n",
       "2  Первая мировая  1914/09/17  \n",
       "3  Первая мировая  1914/09/17  \n",
       "4  Первая мировая  1914/09/18  "
      ]
     },
     "execution_count": 4,
     "metadata": {},
     "output_type": "execute_result"
    }
   ],
   "source": [
    "data.head()"
   ]
  },
  {
   "cell_type": "code",
   "execution_count": 5,
   "id": "1cce35fe",
   "metadata": {},
   "outputs": [
    {
     "data": {
      "text/plain": [
       "(800975, 6)"
      ]
     },
     "execution_count": 5,
     "metadata": {},
     "output_type": "execute_result"
    }
   ],
   "source": [
    "data.shape"
   ]
  },
  {
   "cell_type": "markdown",
   "id": "09f85622",
   "metadata": {},
   "source": [
    "# Отбор 500 значений в каждой из 5 категорий"
   ]
  },
  {
   "cell_type": "code",
   "execution_count": 14,
   "id": "6c1029ca",
   "metadata": {},
   "outputs": [],
   "source": [
    "topics = ['Путешествия', 'Ценности', 'Мир', 'Наука и техника', 'Экономика']\n",
    "news_in_cat_count = 500"
   ]
  },
  {
   "cell_type": "code",
   "execution_count": 19,
   "id": "43ee9284",
   "metadata": {
    "scrolled": true
   },
   "outputs": [
    {
     "name": "stderr",
     "output_type": "stream",
     "text": [
      "C:\\Users\\1\\AppData\\Local\\Temp\\ipykernel_6204\\2932356076.py:4: FutureWarning: The frame.append method is deprecated and will be removed from pandas in a future version. Use pandas.concat instead.\n",
      "  df_res = df_res.append(df_topic, ignore_index=True)\n"
     ]
    }
   ],
   "source": [
    "df_res = pd.DataFrame()\n",
    "for topic in topics:\n",
    "    df_topic = data[data['topic'] == topic][:news_in_cat_count]\n",
    "    df_res = df_res.append(df_topic, ignore_index=True)"
   ]
  },
  {
   "cell_type": "markdown",
   "id": "969adb0f",
   "metadata": {},
   "source": [
    "# Функция, обрабатывающая текст"
   ]
  },
  {
   "cell_type": "code",
   "execution_count": 32,
   "id": "54851867",
   "metadata": {},
   "outputs": [],
   "source": [
    "texts = df_res['text']"
   ]
  },
  {
   "cell_type": "code",
   "execution_count": 36,
   "id": "1d8eb8db",
   "metadata": {},
   "outputs": [],
   "source": [
    "from nltk.stem.snowball import SnowballStemmer\n",
    "stemmer = SnowballStemmer(\"russian\")\n",
    "\n",
    "def token_and_stem(text):\n",
    "    tokens = [word for sent in nltk.sent_tokenize(text) for word in nltk.word_tokenize(sent)]\n",
    "    filtered_tokens = []\n",
    "    for token in tokens:\n",
    "        if re.search('[а-яА-Я]', token):\n",
    "            filtered_tokens.append(token)\n",
    "    stems = [stemmer.stem(t) for t in filtered_tokens]\n",
    "    return stems"
   ]
  },
  {
   "cell_type": "markdown",
   "id": "3b8ef1b0",
   "metadata": {},
   "source": [
    "# Стоп-слова"
   ]
  },
  {
   "cell_type": "code",
   "execution_count": 88,
   "id": "51ded67f",
   "metadata": {},
   "outputs": [],
   "source": [
    "stopwords = nltk.corpus.stopwords.words('russian')\n",
    "#можно расширить список стоп-слов\n",
    "stopwords.extend(['что', 'это', 'так', 'вот', 'быть', 'как', 'в', 'к', 'на'])"
   ]
  },
  {
   "cell_type": "markdown",
   "id": "857e7c1f",
   "metadata": {},
   "source": [
    "# TF-IDF"
   ]
  },
  {
   "cell_type": "code",
   "execution_count": 37,
   "id": "828ab9ce",
   "metadata": {},
   "outputs": [],
   "source": [
    "from sklearn.feature_extraction.text import TfidfVectorizer, CountVectorizer\n",
    "\n",
    "n_featur=200000\n",
    "tfidf_vectorizer = TfidfVectorizer(max_df=0.8, max_features=10000,\n",
    "                                 min_df=0.01, stop_words=stopwords,\n",
    "                                 use_idf=True, tokenizer=token_and_stem, ngram_range=(1,3))"
   ]
  },
  {
   "cell_type": "code",
   "execution_count": 38,
   "id": "8483eb23",
   "metadata": {},
   "outputs": [
    {
     "name": "stderr",
     "output_type": "stream",
     "text": [
      "D:\\Anaconda\\lib\\site-packages\\sklearn\\feature_extraction\\text.py:396: UserWarning: Your stop_words may be inconsistent with your preprocessing. Tokenizing the stop words generated tokens ['бол', 'больш', 'будт', 'быт', 'вед', 'впроч', 'всег', 'всегд', 'даж', 'друг', 'е', 'ег', 'ем', 'есл', 'ест', 'ещ', 'зач', 'зде', 'ил', 'иногд', 'когд', 'конечн', 'куд', 'лучш', 'межд', 'мен', 'мног', 'мо', 'можн', 'нег', 'нельз', 'нибуд', 'никогд', 'нич', 'опя', 'посл', 'пот', 'почт', 'разв', 'сво', 'себ', 'совс', 'теб', 'тепер', 'тог', 'тогд', 'тож', 'тольк', 'хорош', 'хот', 'чег', 'чут', 'эт'] not in stop_words.\n",
      "  warnings.warn(\n"
     ]
    },
    {
     "name": "stdout",
     "output_type": "stream",
     "text": [
      "CPU times: total: 26 s\n",
      "Wall time: 26.2 s\n"
     ]
    }
   ],
   "source": [
    "%%time\n",
    "tfidf_matrix = tfidf_vectorizer.fit_transform(texts)"
   ]
  },
  {
   "cell_type": "code",
   "execution_count": 42,
   "id": "a1881ca7",
   "metadata": {
    "scrolled": true
   },
   "outputs": [
    {
     "data": {
      "text/plain": [
       "<2500x2182 sparse matrix of type '<class 'numpy.float64'>'\n",
       "\twith 187085 stored elements in Compressed Sparse Row format>"
      ]
     },
     "execution_count": 42,
     "metadata": {},
     "output_type": "execute_result"
    }
   ],
   "source": [
    "type(tfidf_matrix)\n",
    "tfidf_matrix"
   ]
  },
  {
   "cell_type": "markdown",
   "id": "58ceec42",
   "metadata": {},
   "source": [
    "# Kmeans clustering"
   ]
  },
  {
   "cell_type": "code",
   "execution_count": 45,
   "id": "0c4e2c8d",
   "metadata": {},
   "outputs": [],
   "source": [
    "num_clusters = 5\n",
    "\n",
    "from sklearn.cluster import KMeans\n",
    "km = KMeans(n_clusters=num_clusters, random_state=777)"
   ]
  },
  {
   "cell_type": "code",
   "execution_count": 46,
   "id": "76d6379c",
   "metadata": {},
   "outputs": [
    {
     "name": "stdout",
     "output_type": "stream",
     "text": [
      "CPU times: total: 5.7 s\n",
      "Wall time: 2.07 s\n"
     ]
    },
    {
     "data": {
      "text/plain": [
       "KMeans(n_clusters=5, random_state=777)"
      ]
     },
     "execution_count": 46,
     "metadata": {},
     "output_type": "execute_result"
    }
   ],
   "source": [
    "%%time\n",
    "km.fit(tfidf_matrix)"
   ]
  },
  {
   "cell_type": "code",
   "execution_count": 47,
   "id": "0efdf2f3",
   "metadata": {},
   "outputs": [
    {
     "name": "stdout",
     "output_type": "stream",
     "text": [
      "CPU times: total: 5.66 s\n",
      "Wall time: 1.97 s\n"
     ]
    }
   ],
   "source": [
    "%%time\n",
    "idx = km.fit(tfidf_matrix)\n",
    "clusters = km.labels_.tolist()"
   ]
  },
  {
   "cell_type": "code",
   "execution_count": 53,
   "id": "fbbd98f3",
   "metadata": {},
   "outputs": [],
   "source": [
    "clusterkm = km.labels_.tolist()\n",
    "frame = pd.DataFrame(texts)\n",
    "\n",
    "#k-means\n",
    "out = { 'text': texts, 'cluster': clusterkm, 'topic': df_res['topic'] }\n",
    "frame1 = pd.DataFrame(out, columns = ['text', 'cluster', 'topic'])"
   ]
  },
  {
   "cell_type": "markdown",
   "id": "5245b157",
   "metadata": {},
   "source": [
    "# Просмотр того, как распределились кластеры"
   ]
  },
  {
   "cell_type": "code",
   "execution_count": 54,
   "id": "b617b907",
   "metadata": {},
   "outputs": [
    {
     "data": {
      "text/html": [
       "<div>\n",
       "<style scoped>\n",
       "    .dataframe tbody tr th:only-of-type {\n",
       "        vertical-align: middle;\n",
       "    }\n",
       "\n",
       "    .dataframe tbody tr th {\n",
       "        vertical-align: top;\n",
       "    }\n",
       "\n",
       "    .dataframe thead th {\n",
       "        text-align: right;\n",
       "    }\n",
       "</style>\n",
       "<table border=\"1\" class=\"dataframe\">\n",
       "  <thead>\n",
       "    <tr style=\"text-align: right;\">\n",
       "      <th></th>\n",
       "      <th>text</th>\n",
       "      <th>cluster</th>\n",
       "      <th>topic</th>\n",
       "    </tr>\n",
       "  </thead>\n",
       "  <tbody>\n",
       "    <tr>\n",
       "      <th>0</th>\n",
       "      <td>Названы самые раздражающие фотографии, которые...</td>\n",
       "      <td>3</td>\n",
       "      <td>Путешествия</td>\n",
       "    </tr>\n",
       "    <tr>\n",
       "      <th>1</th>\n",
       "      <td>Австрийская авиакомпания FlyNiki открывает 10-...</td>\n",
       "      <td>3</td>\n",
       "      <td>Путешествия</td>\n",
       "    </tr>\n",
       "    <tr>\n",
       "      <th>2</th>\n",
       "      <td>Премьер-министр Греции Алексис Ципрас призвал ...</td>\n",
       "      <td>3</td>\n",
       "      <td>Путешествия</td>\n",
       "    </tr>\n",
       "    <tr>\n",
       "      <th>3</th>\n",
       "      <td>Китайский лоукостер Spring Airlines собрался п...</td>\n",
       "      <td>3</td>\n",
       "      <td>Путешествия</td>\n",
       "    </tr>\n",
       "    <tr>\n",
       "      <th>4</th>\n",
       "      <td>Большинство российских путешественников отметя...</td>\n",
       "      <td>3</td>\n",
       "      <td>Путешествия</td>\n",
       "    </tr>\n",
       "    <tr>\n",
       "      <th>5</th>\n",
       "      <td>Китай планирует создать международную туристич...</td>\n",
       "      <td>3</td>\n",
       "      <td>Путешествия</td>\n",
       "    </tr>\n",
       "    <tr>\n",
       "      <th>6</th>\n",
       "      <td>Туристический сервис Tripadvisor определил луч...</td>\n",
       "      <td>3</td>\n",
       "      <td>Путешествия</td>\n",
       "    </tr>\n",
       "    <tr>\n",
       "      <th>7</th>\n",
       "      <td>Число российских туристов, выбравших в качеств...</td>\n",
       "      <td>3</td>\n",
       "      <td>Путешествия</td>\n",
       "    </tr>\n",
       "    <tr>\n",
       "      <th>8</th>\n",
       "      <td>Авиакомпания Iraqi Airways в ближайшее время н...</td>\n",
       "      <td>3</td>\n",
       "      <td>Путешествия</td>\n",
       "    </tr>\n",
       "    <tr>\n",
       "      <th>9</th>\n",
       "      <td>Посол Палестины в России Фаед Мустафа сообщил,...</td>\n",
       "      <td>3</td>\n",
       "      <td>Путешествия</td>\n",
       "    </tr>\n",
       "  </tbody>\n",
       "</table>\n",
       "</div>"
      ],
      "text/plain": [
       "                                                text  cluster        topic\n",
       "0  Названы самые раздражающие фотографии, которые...        3  Путешествия\n",
       "1  Австрийская авиакомпания FlyNiki открывает 10-...        3  Путешествия\n",
       "2  Премьер-министр Греции Алексис Ципрас призвал ...        3  Путешествия\n",
       "3  Китайский лоукостер Spring Airlines собрался п...        3  Путешествия\n",
       "4  Большинство российских путешественников отметя...        3  Путешествия\n",
       "5  Китай планирует создать международную туристич...        3  Путешествия\n",
       "6  Туристический сервис Tripadvisor определил луч...        3  Путешествия\n",
       "7  Число российских туристов, выбравших в качеств...        3  Путешествия\n",
       "8  Авиакомпания Iraqi Airways в ближайшее время н...        3  Путешествия\n",
       "9  Посол Палестины в России Фаед Мустафа сообщил,...        3  Путешествия"
      ]
     },
     "execution_count": 54,
     "metadata": {},
     "output_type": "execute_result"
    }
   ],
   "source": [
    "frame1.head(10)"
   ]
  },
  {
   "cell_type": "code",
   "execution_count": 77,
   "id": "4b77f357",
   "metadata": {
    "scrolled": false
   },
   "outputs": [
    {
     "name": "stdout",
     "output_type": "stream",
     "text": [
      "0\n",
      "Наука и техника    162\n",
      "Мир                 10\n",
      "Name: topic, dtype: int64\n",
      "------------------------------------------------------\n",
      "1\n",
      "Экономика          443\n",
      "Мир                 53\n",
      "Путешествия          7\n",
      "Наука и техника      6\n",
      "Ценности             3\n",
      "Name: topic, dtype: int64\n",
      "------------------------------------------------------\n",
      "2\n",
      "Ценности           394\n",
      "Наука и техника      1\n",
      "Name: topic, dtype: int64\n",
      "------------------------------------------------------\n",
      "3\n",
      "Путешествия        409\n",
      "Ценности             9\n",
      "Экономика            3\n",
      "Мир                  1\n",
      "Наука и техника      1\n",
      "Name: topic, dtype: int64\n",
      "------------------------------------------------------\n",
      "4\n",
      "Мир                436\n",
      "Наука и техника    330\n",
      "Ценности            94\n",
      "Путешествия         84\n",
      "Экономика           54\n",
      "Name: topic, dtype: int64\n",
      "------------------------------------------------------\n"
     ]
    }
   ],
   "source": [
    "for i in range(0, 5):\n",
    "    print(i)\n",
    "    print(frame1[frame1['cluster'] == i]['topic'].value_counts())\n",
    "    print(\"------------------------------------------------------\")"
   ]
  },
  {
   "cell_type": "markdown",
   "id": "27039992",
   "metadata": {},
   "source": [
    "### Видно, что кластеры распределились относительно равномерно, кроме 0 и особенно 4, но при увеличении данных или смене модели, смене гиперпараметров можно будет улучшить качество результата"
   ]
  },
  {
   "cell_type": "markdown",
   "id": "fc896fb6",
   "metadata": {},
   "source": [
    "# --------------------------------------------------------------------------------------------------"
   ]
  },
  {
   "cell_type": "markdown",
   "id": "58820dbb",
   "metadata": {},
   "source": [
    "# Обработка для классификации"
   ]
  },
  {
   "cell_type": "code",
   "execution_count": 123,
   "id": "ab067fae",
   "metadata": {},
   "outputs": [],
   "source": [
    "import string\n",
    "def remove_punctuation(text):\n",
    "    return \"\".join([ch if ch not in string.punctuation else ' ' for ch in text])\n",
    "\n",
    "\n",
    "def remove_numbers(text):\n",
    "    return ''.join([i if not i.isdigit() else ' ' for i in text])\n",
    "\n",
    "\n",
    "import re\n",
    "def remove_multiple_spaces(text):\n",
    "    return re.sub(r'\\s+', ' ', text, flags=re.I)\n",
    "\n",
    "\n",
    "def remove_stop_words(text):\n",
    "    tokens = word_tokenize(text) \n",
    "    tokens = [token for token in tokens if token not in russian_stopwords and token != ' ']\n",
    "    return \" \".join(tokens)\n",
    "\n",
    "\n",
    "from nltk.stem import *\n",
    "from nltk.corpus import stopwords\n",
    "from pymystem3 import Mystem\n",
    "from string import punctuation\n",
    "mystem = Mystem() \n",
    "\n",
    "russian_stopwords = stopwords.words(\"russian\")\n",
    "russian_stopwords.extend(['…', '«', '»', '...'])"
   ]
  },
  {
   "cell_type": "code",
   "execution_count": 110,
   "id": "cfd1f024",
   "metadata": {},
   "outputs": [],
   "source": [
    "prep_text = [remove_multiple_spaces(remove_numbers(remove_punctuation(text.lower()))) for text in df_res['text']]"
   ]
  },
  {
   "cell_type": "code",
   "execution_count": 112,
   "id": "ad176dc2",
   "metadata": {},
   "outputs": [],
   "source": [
    "df_res['text_prep'] = prep_text"
   ]
  },
  {
   "cell_type": "markdown",
   "id": "d584cd5f",
   "metadata": {},
   "source": [
    "# Лемматизация"
   ]
  },
  {
   "cell_type": "code",
   "execution_count": 115,
   "id": "74e3738c",
   "metadata": {},
   "outputs": [
    {
     "data": {
      "application/vnd.jupyter.widget-view+json": {
       "model_id": "7003d24004eb4ef29625e3c3d262d35e",
       "version_major": 2,
       "version_minor": 0
      },
      "text/plain": [
       "  0%|          | 0/2500 [00:00<?, ?it/s]"
      ]
     },
     "metadata": {},
     "output_type": "display_data"
    }
   ],
   "source": [
    "lemm_texts_list = []\n",
    "for text in tqdm(df_res['text_prep']):\n",
    "    #print(text)\n",
    "    try:\n",
    "        text_lem = mystem.lemmatize(text)\n",
    "        tokens = [token for token in text_lem if token != ' ' and token not in russian_stopwords]\n",
    "        text = \" \".join(tokens)\n",
    "        lemm_texts_list.append(text)\n",
    "    except Exception as e:\n",
    "        print(e)\n",
    "    \n",
    "df_res['text_lemm'] = lemm_texts_list"
   ]
  },
  {
   "cell_type": "markdown",
   "id": "29ee31da",
   "metadata": {},
   "source": [
    "# Стемматизация"
   ]
  },
  {
   "cell_type": "code",
   "execution_count": 118,
   "id": "f4c713a1",
   "metadata": {},
   "outputs": [
    {
     "data": {
      "application/vnd.jupyter.widget-view+json": {
       "model_id": "6baba3a17a164747a36220229a672c03",
       "version_major": 2,
       "version_minor": 0
      },
      "text/plain": [
       "  0%|          | 0/2500 [00:00<?, ?it/s]"
      ]
     },
     "metadata": {},
     "output_type": "display_data"
    }
   ],
   "source": [
    "from nltk import word_tokenize\n",
    "from nltk.stem.snowball import SnowballStemmer \n",
    "stemmer = SnowballStemmer(\"russian\") \n",
    "\n",
    "text = df_res['text_prep'][0]\n",
    "word_tokenize(text) \n",
    "\n",
    "from nltk import word_tokenize\n",
    "\n",
    "stemmed_texts_list = []\n",
    "for text in tqdm(df_res['text_prep']):\n",
    "    tokens = word_tokenize(text)    \n",
    "    stemmed_tokens = [stemmer.stem(token) for token in tokens if token not in russian_stopwords]\n",
    "    text = \" \".join(stemmed_tokens)\n",
    "    stemmed_texts_list.append(text)\n",
    "\n",
    "df_res['text_stem'] = stemmed_texts_list"
   ]
  },
  {
   "cell_type": "markdown",
   "id": "d1a05946",
   "metadata": {},
   "source": [
    "## Разница в потраченном времени просто колоссальна, так у лемматизации получение текста происходило с 1 операцией/ 1 сек, то стемматизация 154 оп/ 1 сек"
   ]
  },
  {
   "cell_type": "code",
   "execution_count": 124,
   "id": "5c13e68c",
   "metadata": {
    "scrolled": false
   },
   "outputs": [
    {
     "data": {
      "text/html": [
       "<div>\n",
       "<style scoped>\n",
       "    .dataframe tbody tr th:only-of-type {\n",
       "        vertical-align: middle;\n",
       "    }\n",
       "\n",
       "    .dataframe tbody tr th {\n",
       "        vertical-align: top;\n",
       "    }\n",
       "\n",
       "    .dataframe thead th {\n",
       "        text-align: right;\n",
       "    }\n",
       "</style>\n",
       "<table border=\"1\" class=\"dataframe\">\n",
       "  <thead>\n",
       "    <tr style=\"text-align: right;\">\n",
       "      <th></th>\n",
       "      <th>url</th>\n",
       "      <th>title</th>\n",
       "      <th>text</th>\n",
       "      <th>topic</th>\n",
       "      <th>tags</th>\n",
       "      <th>date</th>\n",
       "      <th>text_prep</th>\n",
       "      <th>text_lemm</th>\n",
       "      <th>text_stem</th>\n",
       "    </tr>\n",
       "  </thead>\n",
       "  <tbody>\n",
       "    <tr>\n",
       "      <th>0</th>\n",
       "      <td>https://lenta.ru/news/2014/06/26/annoyingphotos/</td>\n",
       "      <td>Составлен рейтинг самых раздражающих отпускных...</td>\n",
       "      <td>Названы самые раздражающие фотографии, которые...</td>\n",
       "      <td>Путешествия</td>\n",
       "      <td>Мнения</td>\n",
       "      <td>2014/06/26</td>\n",
       "      <td>названы самые раздражающие фотографии которые ...</td>\n",
       "      <td>называть самый раздражающий фотография который...</td>\n",
       "      <td>назва сам раздража фотограф котор уеха отпуск ...</td>\n",
       "    </tr>\n",
       "    <tr>\n",
       "      <th>1</th>\n",
       "      <td>https://lenta.ru/news/2015/01/09/flight/</td>\n",
       "      <td>В Европе появится 10-минутный авиарейс</td>\n",
       "      <td>Австрийская авиакомпания FlyNiki открывает 10-...</td>\n",
       "      <td>Путешествия</td>\n",
       "      <td>Мир</td>\n",
       "      <td>2015/01/09</td>\n",
       "      <td>австрийская авиакомпания flyniki открывает мин...</td>\n",
       "      <td>австрийский авиакомпания flyniki открывать мин...</td>\n",
       "      <td>австрийск авиакомпан flyniki открыва минутн ав...</td>\n",
       "    </tr>\n",
       "    <tr>\n",
       "      <th>2</th>\n",
       "      <td>https://lenta.ru/news/2015/01/28/tsipras/</td>\n",
       "      <td>Греческий премьер призвал избавиться от отелей...</td>\n",
       "      <td>Премьер-министр Греции Алексис Ципрас призвал ...</td>\n",
       "      <td>Путешествия</td>\n",
       "      <td>Мир</td>\n",
       "      <td>2015/01/28</td>\n",
       "      <td>премьер министр греции алексис ципрас призвал ...</td>\n",
       "      <td>премьер министр греция алексис ципрас призыват...</td>\n",
       "      <td>премьер министр грец алексис ципрас призва отк...</td>\n",
       "    </tr>\n",
       "    <tr>\n",
       "      <th>3</th>\n",
       "      <td>https://lenta.ru/news/2015/02/03/standfly/</td>\n",
       "      <td>Китайская авиакомпания собралась ввести в само...</td>\n",
       "      <td>Китайский лоукостер Spring Airlines собрался п...</td>\n",
       "      <td>Путешествия</td>\n",
       "      <td>Мир</td>\n",
       "      <td>2015/02/03</td>\n",
       "      <td>китайский лоукостер spring airlines собрался п...</td>\n",
       "      <td>китайский лоукостер spring airlines собираться...</td>\n",
       "      <td>китайск лоукостер spring airlines собра предло...</td>\n",
       "    </tr>\n",
       "    <tr>\n",
       "      <th>4</th>\n",
       "      <td>https://lenta.ru/news/2015/02/12/tripforvalent...</td>\n",
       "      <td>Россияне отправятся отмечать День святого Вале...</td>\n",
       "      <td>Большинство российских путешественников отметя...</td>\n",
       "      <td>Путешествия</td>\n",
       "      <td>Россия</td>\n",
       "      <td>2015/02/12</td>\n",
       "      <td>большинство российских путешественников отметя...</td>\n",
       "      <td>большинство российский путешественник отмечать...</td>\n",
       "      <td>большинств российск путешественник отмет ден с...</td>\n",
       "    </tr>\n",
       "  </tbody>\n",
       "</table>\n",
       "</div>"
      ],
      "text/plain": [
       "                                                 url  \\\n",
       "0   https://lenta.ru/news/2014/06/26/annoyingphotos/   \n",
       "1           https://lenta.ru/news/2015/01/09/flight/   \n",
       "2          https://lenta.ru/news/2015/01/28/tsipras/   \n",
       "3         https://lenta.ru/news/2015/02/03/standfly/   \n",
       "4  https://lenta.ru/news/2015/02/12/tripforvalent...   \n",
       "\n",
       "                                               title  \\\n",
       "0  Составлен рейтинг самых раздражающих отпускных...   \n",
       "1            В Европе появится 10-минутный авиарейс    \n",
       "2  Греческий премьер призвал избавиться от отелей...   \n",
       "3  Китайская авиакомпания собралась ввести в само...   \n",
       "4  Россияне отправятся отмечать День святого Вале...   \n",
       "\n",
       "                                                text        topic    tags  \\\n",
       "0  Названы самые раздражающие фотографии, которые...  Путешествия  Мнения   \n",
       "1  Австрийская авиакомпания FlyNiki открывает 10-...  Путешествия     Мир   \n",
       "2  Премьер-министр Греции Алексис Ципрас призвал ...  Путешествия     Мир   \n",
       "3  Китайский лоукостер Spring Airlines собрался п...  Путешествия     Мир   \n",
       "4  Большинство российских путешественников отметя...  Путешествия  Россия   \n",
       "\n",
       "         date                                          text_prep  \\\n",
       "0  2014/06/26  названы самые раздражающие фотографии которые ...   \n",
       "1  2015/01/09  австрийская авиакомпания flyniki открывает мин...   \n",
       "2  2015/01/28  премьер министр греции алексис ципрас призвал ...   \n",
       "3  2015/02/03  китайский лоукостер spring airlines собрался п...   \n",
       "4  2015/02/12  большинство российских путешественников отметя...   \n",
       "\n",
       "                                           text_lemm  \\\n",
       "0  называть самый раздражающий фотография который...   \n",
       "1  австрийский авиакомпания flyniki открывать мин...   \n",
       "2  премьер министр греция алексис ципрас призыват...   \n",
       "3  китайский лоукостер spring airlines собираться...   \n",
       "4  большинство российский путешественник отмечать...   \n",
       "\n",
       "                                           text_stem  \n",
       "0  назва сам раздража фотограф котор уеха отпуск ...  \n",
       "1  австрийск авиакомпан flyniki открыва минутн ав...  \n",
       "2  премьер министр грец алексис ципрас призва отк...  \n",
       "3  китайск лоукостер spring airlines собра предло...  \n",
       "4  большинств российск путешественник отмет ден с...  "
      ]
     },
     "execution_count": 124,
     "metadata": {},
     "output_type": "execute_result"
    }
   ],
   "source": [
    "df_res.head()"
   ]
  },
  {
   "cell_type": "markdown",
   "id": "b7a40c7e",
   "metadata": {},
   "source": [
    "# Деление данных"
   ]
  },
  {
   "cell_type": "code",
   "execution_count": 136,
   "id": "d61a61a5",
   "metadata": {},
   "outputs": [],
   "source": [
    "X = df_res['text_lemm']\n",
    "y = df_res['topic']"
   ]
  },
  {
   "cell_type": "code",
   "execution_count": 137,
   "id": "d87581b4",
   "metadata": {},
   "outputs": [],
   "source": [
    "from sklearn.model_selection import train_test_split\n",
    "X_train, X_test, y_train, y_test = train_test_split(X, y, test_size=0.3, random_state = 42)"
   ]
  },
  {
   "cell_type": "code",
   "execution_count": 149,
   "id": "fb711416",
   "metadata": {},
   "outputs": [
    {
     "data": {
      "text/plain": [
       "array(['Путешествия', 'Ценности', 'Мир', 'Наука и техника', 'Экономика'],\n",
       "      dtype=object)"
      ]
     },
     "execution_count": 149,
     "metadata": {},
     "output_type": "execute_result"
    }
   ],
   "source": [
    "my_tags = df_res['topic'].unique()\n",
    "my_tags"
   ]
  },
  {
   "cell_type": "markdown",
   "id": "3abcf84a",
   "metadata": {},
   "source": [
    "# Naive Bayes Classifier"
   ]
  },
  {
   "cell_type": "code",
   "execution_count": 126,
   "id": "1f955b87",
   "metadata": {},
   "outputs": [],
   "source": [
    "from sklearn.naive_bayes import MultinomialNB\n",
    "from sklearn.pipeline import Pipeline\n",
    "from sklearn.feature_extraction.text import TfidfTransformer\n",
    "from sklearn.feature_extraction.text import CountVectorizer"
   ]
  },
  {
   "cell_type": "code",
   "execution_count": 127,
   "id": "525f6f24",
   "metadata": {},
   "outputs": [],
   "source": [
    "nb = Pipeline([('vect', CountVectorizer()),\n",
    "               ('tfidf', TfidfTransformer()),\n",
    "               ('clf', MultinomialNB()),\n",
    "              ])"
   ]
  },
  {
   "cell_type": "code",
   "execution_count": 138,
   "id": "ea478ac5",
   "metadata": {
    "scrolled": true
   },
   "outputs": [
    {
     "data": {
      "text/plain": [
       "Pipeline(steps=[('vect', CountVectorizer()), ('tfidf', TfidfTransformer()),\n",
       "                ('clf', MultinomialNB())])"
      ]
     },
     "execution_count": 138,
     "metadata": {},
     "output_type": "execute_result"
    }
   ],
   "source": [
    "nb.fit(X_train, y_train)"
   ]
  },
  {
   "cell_type": "markdown",
   "id": "8d8ce616",
   "metadata": {},
   "source": [
    "## Метрики"
   ]
  },
  {
   "cell_type": "code",
   "execution_count": 139,
   "id": "23bc9fbf",
   "metadata": {},
   "outputs": [],
   "source": [
    "from sklearn.metrics import classification_report\n",
    "y_pred = nb.predict(X_test)"
   ]
  },
  {
   "cell_type": "code",
   "execution_count": 150,
   "id": "13314d75",
   "metadata": {},
   "outputs": [
    {
     "name": "stdout",
     "output_type": "stream",
     "text": [
      "accuracy 0.8986666666666666\n",
      "                 precision    recall  f1-score   support\n",
      "\n",
      "    Путешествия       0.94      0.69      0.80       154\n",
      "       Ценности       0.91      0.91      0.91       165\n",
      "            Мир       0.93      0.97      0.95       158\n",
      "Наука и техника       0.93      0.97      0.95       138\n",
      "      Экономика       0.80      0.96      0.88       135\n",
      "\n",
      "       accuracy                           0.90       750\n",
      "      macro avg       0.90      0.90      0.90       750\n",
      "   weighted avg       0.90      0.90      0.90       750\n",
      "\n"
     ]
    }
   ],
   "source": [
    "from sklearn.metrics import accuracy_score\n",
    "\n",
    "print('accuracy %s' % accuracy_score(y_pred, y_test))\n",
    "print(classification_report(y_test, y_pred, target_names=my_tags))"
   ]
  },
  {
   "cell_type": "markdown",
   "id": "57b18c28",
   "metadata": {},
   "source": [
    "# Logistic Regression"
   ]
  },
  {
   "cell_type": "code",
   "execution_count": 155,
   "id": "067043a7",
   "metadata": {},
   "outputs": [],
   "source": [
    "from sklearn.linear_model import LogisticRegression\n",
    "\n",
    "logreg = Pipeline([('vect', CountVectorizer()),\n",
    "                ('tfidf', TfidfTransformer()),\n",
    "                ('clf', LogisticRegression(n_jobs=1, C=1e5, max_iter=200)),\n",
    "               ])"
   ]
  },
  {
   "cell_type": "code",
   "execution_count": 156,
   "id": "c6e6ff6d",
   "metadata": {},
   "outputs": [
    {
     "name": "stdout",
     "output_type": "stream",
     "text": [
      "CPU times: total: 2.39 s\n",
      "Wall time: 2.34 s\n"
     ]
    },
    {
     "data": {
      "text/plain": [
       "Pipeline(steps=[('vect', CountVectorizer()), ('tfidf', TfidfTransformer()),\n",
       "                ('clf',\n",
       "                 LogisticRegression(C=100000.0, max_iter=200, n_jobs=1))])"
      ]
     },
     "execution_count": 156,
     "metadata": {},
     "output_type": "execute_result"
    }
   ],
   "source": [
    "%%time\n",
    "logreg.fit(X_train, y_train)"
   ]
  },
  {
   "cell_type": "code",
   "execution_count": 157,
   "id": "ca35d5b0",
   "metadata": {},
   "outputs": [
    {
     "name": "stdout",
     "output_type": "stream",
     "text": [
      "CPU times: total: 78.1 ms\n",
      "Wall time: 89.8 ms\n"
     ]
    }
   ],
   "source": [
    "%%time\n",
    "y_pred = logreg.predict(X_test)"
   ]
  },
  {
   "cell_type": "code",
   "execution_count": 158,
   "id": "94ee9ea1",
   "metadata": {
    "scrolled": true
   },
   "outputs": [
    {
     "name": "stdout",
     "output_type": "stream",
     "text": [
      "accuracy 0.924\n",
      "                 precision    recall  f1-score   support\n",
      "\n",
      "    Путешествия       0.90      0.79      0.84       154\n",
      "       Ценности       0.90      0.95      0.92       165\n",
      "            Мир       0.99      0.98      0.99       158\n",
      "Наука и техника       0.97      1.00      0.98       138\n",
      "      Экономика       0.86      0.90      0.88       135\n",
      "\n",
      "       accuracy                           0.92       750\n",
      "      macro avg       0.92      0.92      0.92       750\n",
      "   weighted avg       0.92      0.92      0.92       750\n",
      "\n"
     ]
    }
   ],
   "source": [
    "print('accuracy %s' % accuracy_score(y_pred, y_test))\n",
    "print(classification_report(y_test, y_pred,target_names=my_tags))"
   ]
  },
  {
   "cell_type": "code",
   "execution_count": null,
   "id": "35faf226",
   "metadata": {},
   "outputs": [],
   "source": []
  },
  {
   "cell_type": "code",
   "execution_count": null,
   "id": "c646f536",
   "metadata": {},
   "outputs": [],
   "source": []
  },
  {
   "cell_type": "code",
   "execution_count": null,
   "id": "c26761d3",
   "metadata": {},
   "outputs": [],
   "source": []
  },
  {
   "cell_type": "code",
   "execution_count": null,
   "id": "bb4a6c07",
   "metadata": {},
   "outputs": [],
   "source": []
  },
  {
   "cell_type": "code",
   "execution_count": null,
   "id": "3d4e3461",
   "metadata": {},
   "outputs": [],
   "source": []
  }
 ],
 "metadata": {
  "kernelspec": {
   "display_name": "Python 3 (ipykernel)",
   "language": "python",
   "name": "python3"
  },
  "language_info": {
   "codemirror_mode": {
    "name": "ipython",
    "version": 3
   },
   "file_extension": ".py",
   "mimetype": "text/x-python",
   "name": "python",
   "nbconvert_exporter": "python",
   "pygments_lexer": "ipython3",
   "version": "3.9.7"
  }
 },
 "nbformat": 4,
 "nbformat_minor": 5
}
