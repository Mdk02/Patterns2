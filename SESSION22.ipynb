{
 "cells": [
  {
   "cell_type": "markdown",
   "id": "edf0666f",
   "metadata": {},
   "source": [
    "## Импорт библиотек"
   ]
  },
  {
   "cell_type": "code",
   "execution_count": 4,
   "id": "52fccf68",
   "metadata": {},
   "outputs": [],
   "source": [
    "# импорт библиотек\n",
    "import pandas as pd\n",
    "import numpy as np\n",
    "from sklearn import preprocessing\n",
    "import matplotlib.pyplot as plt\n",
    "\n",
    "pd.set_option('max_columns', 67)\n",
    "pd.set_option('max_rows', 67)"
   ]
  },
  {
   "cell_type": "markdown",
   "id": "e6caf79e",
   "metadata": {},
   "source": [
    "## Считывание данных в датафрейм"
   ]
  },
  {
   "cell_type": "code",
   "execution_count": 5,
   "id": "87013786",
   "metadata": {},
   "outputs": [
    {
     "data": {
      "text/html": [
       "<div>\n",
       "<style scoped>\n",
       "    .dataframe tbody tr th:only-of-type {\n",
       "        vertical-align: middle;\n",
       "    }\n",
       "\n",
       "    .dataframe tbody tr th {\n",
       "        vertical-align: top;\n",
       "    }\n",
       "\n",
       "    .dataframe thead th {\n",
       "        text-align: right;\n",
       "    }\n",
       "</style>\n",
       "<table border=\"1\" class=\"dataframe\">\n",
       "  <thead>\n",
       "    <tr style=\"text-align: right;\">\n",
       "      <th></th>\n",
       "      <th>properties.tags</th>\n",
       "      <th>properties.light</th>\n",
       "      <th>properties.point.lat</th>\n",
       "      <th>properties.point.long</th>\n",
       "      <th>properties.nearby</th>\n",
       "      <th>properties.region</th>\n",
       "      <th>properties.address</th>\n",
       "      <th>properties.weather</th>\n",
       "      <th>properties.category</th>\n",
       "      <th>properties.datetime</th>\n",
       "      <th>properties.severity</th>\n",
       "      <th>properties.dead_count</th>\n",
       "      <th>properties.injured_count</th>\n",
       "      <th>properties.road_conditions</th>\n",
       "      <th>properties.participants_count</th>\n",
       "      <th>properties.participant_categories</th>\n",
       "    </tr>\n",
       "  </thead>\n",
       "  <tbody>\n",
       "    <tr>\n",
       "      <th>0</th>\n",
       "      <td>Дорожно-транспортные происшествия</td>\n",
       "      <td>Светлое время суток</td>\n",
       "      <td>51.783772</td>\n",
       "      <td>115.483775</td>\n",
       "      <td>NaN</td>\n",
       "      <td>Шилкинский район</td>\n",
       "      <td>ДАРАСУН - СОЛНЦЕВО, 143 км</td>\n",
       "      <td>Ясно</td>\n",
       "      <td>Опрокидывание</td>\n",
       "      <td>2019-07-25 16:50:00</td>\n",
       "      <td>С погибшими</td>\n",
       "      <td>1</td>\n",
       "      <td>2</td>\n",
       "      <td>Сухое</td>\n",
       "      <td>3</td>\n",
       "      <td>Все участники</td>\n",
       "    </tr>\n",
       "    <tr>\n",
       "      <th>1</th>\n",
       "      <td>Дорожно-транспортные происшествия</td>\n",
       "      <td>Светлое время суток</td>\n",
       "      <td>51.600533</td>\n",
       "      <td>115.405197</td>\n",
       "      <td>NaN</td>\n",
       "      <td>Шилкинский район</td>\n",
       "      <td>ПЕРВОМАЙСК - ЦАГАН-ОЛУЙ - КОНДУЙ, 32 км</td>\n",
       "      <td>Ясно</td>\n",
       "      <td>Опрокидывание</td>\n",
       "      <td>2020-05-16 18:00:00</td>\n",
       "      <td>Тяжёлый</td>\n",
       "      <td>0</td>\n",
       "      <td>2</td>\n",
       "      <td>Сухое</td>\n",
       "      <td>2</td>\n",
       "      <td>Все участники</td>\n",
       "    </tr>\n",
       "    <tr>\n",
       "      <th>2</th>\n",
       "      <td>Дорожно-транспортные происшествия</td>\n",
       "      <td>В темное время суток, освещение отсутствует</td>\n",
       "      <td>52.045523</td>\n",
       "      <td>115.939236</td>\n",
       "      <td>Мост,Нерегулируемый перекрёсток</td>\n",
       "      <td>Шилкинский район</td>\n",
       "      <td>Р-297 Амур Чита - Невер - Свободный - Архара -...</td>\n",
       "      <td>Пасмурно</td>\n",
       "      <td>Столкновение</td>\n",
       "      <td>2019-10-03 20:00:00</td>\n",
       "      <td>Легкий</td>\n",
       "      <td>0</td>\n",
       "      <td>1</td>\n",
       "      <td>Сухое</td>\n",
       "      <td>3</td>\n",
       "      <td>Все участники</td>\n",
       "    </tr>\n",
       "    <tr>\n",
       "      <th>3</th>\n",
       "      <td>Дорожно-транспортные происшествия</td>\n",
       "      <td>В темное время суток, освещение отсутствует</td>\n",
       "      <td>51.902130</td>\n",
       "      <td>116.212864</td>\n",
       "      <td>NaN</td>\n",
       "      <td>Шилкинский район</td>\n",
       "      <td>МОГОЙТУЙ - СРЕТЕНСК - ОЛОЧИ, 137 км</td>\n",
       "      <td>Ясно</td>\n",
       "      <td>Столкновение</td>\n",
       "      <td>2020-11-18 22:00:00</td>\n",
       "      <td>С погибшими</td>\n",
       "      <td>2</td>\n",
       "      <td>0</td>\n",
       "      <td>Сухое,Недостатки зимнего содержания</td>\n",
       "      <td>3</td>\n",
       "      <td>Мотоциклисты,Все участники</td>\n",
       "    </tr>\n",
       "    <tr>\n",
       "      <th>4</th>\n",
       "      <td>Дорожно-транспортные происшествия</td>\n",
       "      <td>Светлое время суток</td>\n",
       "      <td>51.775183</td>\n",
       "      <td>115.854371</td>\n",
       "      <td>Жилые дома индивидуальной застройки</td>\n",
       "      <td>Шилкинский район</td>\n",
       "      <td>с Казаново, ул Чапаева, 24</td>\n",
       "      <td>Ясно</td>\n",
       "      <td>Съезд с дороги</td>\n",
       "      <td>2021-01-31 05:00:00</td>\n",
       "      <td>Легкий</td>\n",
       "      <td>0</td>\n",
       "      <td>2</td>\n",
       "      <td>Заснеженное</td>\n",
       "      <td>2</td>\n",
       "      <td>Все участники</td>\n",
       "    </tr>\n",
       "    <tr>\n",
       "      <th>...</th>\n",
       "      <td>...</td>\n",
       "      <td>...</td>\n",
       "      <td>...</td>\n",
       "      <td>...</td>\n",
       "      <td>...</td>\n",
       "      <td>...</td>\n",
       "      <td>...</td>\n",
       "      <td>...</td>\n",
       "      <td>...</td>\n",
       "      <td>...</td>\n",
       "      <td>...</td>\n",
       "      <td>...</td>\n",
       "      <td>...</td>\n",
       "      <td>...</td>\n",
       "      <td>...</td>\n",
       "      <td>...</td>\n",
       "    </tr>\n",
       "    <tr>\n",
       "      <th>772279</th>\n",
       "      <td>Дорожно-транспортные происшествия</td>\n",
       "      <td>Светлое время суток</td>\n",
       "      <td>51.310600</td>\n",
       "      <td>39.254200</td>\n",
       "      <td>NaN</td>\n",
       "      <td>Нововоронеж</td>\n",
       "      <td>г Нововоронеж, зона Восточная промышленная, 24</td>\n",
       "      <td>Пасмурно</td>\n",
       "      <td>Столкновение</td>\n",
       "      <td>2020-01-29 07:10:00</td>\n",
       "      <td>Легкий</td>\n",
       "      <td>0</td>\n",
       "      <td>3</td>\n",
       "      <td>Мокрое,Недостатки зимнего содержания</td>\n",
       "      <td>4</td>\n",
       "      <td>Все участники</td>\n",
       "    </tr>\n",
       "    <tr>\n",
       "      <th>772280</th>\n",
       "      <td>Дорожно-транспортные происшествия</td>\n",
       "      <td>Светлое время суток</td>\n",
       "      <td>51.319556</td>\n",
       "      <td>39.210473</td>\n",
       "      <td>Жилые дома индивидуальной застройки,Крупный то...</td>\n",
       "      <td>Нововоронеж</td>\n",
       "      <td>г Нововоронеж, ул Победы, 7</td>\n",
       "      <td>Ясно</td>\n",
       "      <td>Столкновение</td>\n",
       "      <td>2021-07-12 17:10:00</td>\n",
       "      <td>Тяжёлый</td>\n",
       "      <td>0</td>\n",
       "      <td>2</td>\n",
       "      <td>Сухое</td>\n",
       "      <td>3</td>\n",
       "      <td>Все участники</td>\n",
       "    </tr>\n",
       "    <tr>\n",
       "      <th>772281</th>\n",
       "      <td>Дорожно-транспортные происшествия</td>\n",
       "      <td>Светлое время суток</td>\n",
       "      <td>51.337020</td>\n",
       "      <td>39.254837</td>\n",
       "      <td>Жилые дома индивидуальной застройки,Нерегулиру...</td>\n",
       "      <td>Нововоронеж</td>\n",
       "      <td>г Нововоронеж, ул Полубяновская, 49</td>\n",
       "      <td>Ясно</td>\n",
       "      <td>Опрокидывание</td>\n",
       "      <td>2021-06-20 19:30:00</td>\n",
       "      <td>Легкий</td>\n",
       "      <td>0</td>\n",
       "      <td>1</td>\n",
       "      <td>Сухое,Отсутствие, плохая различимость горизонт...</td>\n",
       "      <td>1</td>\n",
       "      <td>Все участники</td>\n",
       "    </tr>\n",
       "    <tr>\n",
       "      <th>772282</th>\n",
       "      <td>Дорожно-транспортные происшествия</td>\n",
       "      <td>Сумерки</td>\n",
       "      <td>51.321641</td>\n",
       "      <td>39.229946</td>\n",
       "      <td>АЗС,Остановка общественного транспорта</td>\n",
       "      <td>Нововоронеж</td>\n",
       "      <td>г Нововоронеж, ш Воронежское, 4</td>\n",
       "      <td>Ясно</td>\n",
       "      <td>Наезд на велосипедиста</td>\n",
       "      <td>2021-07-18 20:30:00</td>\n",
       "      <td>Тяжёлый</td>\n",
       "      <td>0</td>\n",
       "      <td>1</td>\n",
       "      <td>Сухое</td>\n",
       "      <td>2</td>\n",
       "      <td>Все участники,Велосипедисты</td>\n",
       "    </tr>\n",
       "    <tr>\n",
       "      <th>772283</th>\n",
       "      <td>Дорожно-транспортные происшествия</td>\n",
       "      <td>Светлое время суток</td>\n",
       "      <td>51.307746</td>\n",
       "      <td>39.224120</td>\n",
       "      <td>Нерегулируемый перекрёсток неравнозначных улиц...</td>\n",
       "      <td>Нововоронеж</td>\n",
       "      <td>г Нововоронеж, ул Вокзальная, 2Б</td>\n",
       "      <td>Пасмурно</td>\n",
       "      <td>Столкновение</td>\n",
       "      <td>2021-07-16 07:50:00</td>\n",
       "      <td>Легкий</td>\n",
       "      <td>0</td>\n",
       "      <td>2</td>\n",
       "      <td>Сухое,Отсутствие, плохая различимость горизонт...</td>\n",
       "      <td>2</td>\n",
       "      <td>Все участники</td>\n",
       "    </tr>\n",
       "  </tbody>\n",
       "</table>\n",
       "<p>772284 rows × 16 columns</p>\n",
       "</div>"
      ],
      "text/plain": [
       "                          properties.tags  \\\n",
       "0       Дорожно-транспортные происшествия   \n",
       "1       Дорожно-транспортные происшествия   \n",
       "2       Дорожно-транспортные происшествия   \n",
       "3       Дорожно-транспортные происшествия   \n",
       "4       Дорожно-транспортные происшествия   \n",
       "...                                   ...   \n",
       "772279  Дорожно-транспортные происшествия   \n",
       "772280  Дорожно-транспортные происшествия   \n",
       "772281  Дорожно-транспортные происшествия   \n",
       "772282  Дорожно-транспортные происшествия   \n",
       "772283  Дорожно-транспортные происшествия   \n",
       "\n",
       "                                   properties.light  properties.point.lat  \\\n",
       "0                               Светлое время суток             51.783772   \n",
       "1                               Светлое время суток             51.600533   \n",
       "2       В темное время суток, освещение отсутствует             52.045523   \n",
       "3       В темное время суток, освещение отсутствует             51.902130   \n",
       "4                               Светлое время суток             51.775183   \n",
       "...                                             ...                   ...   \n",
       "772279                          Светлое время суток             51.310600   \n",
       "772280                          Светлое время суток             51.319556   \n",
       "772281                          Светлое время суток             51.337020   \n",
       "772282                                      Сумерки             51.321641   \n",
       "772283                          Светлое время суток             51.307746   \n",
       "\n",
       "        properties.point.long  \\\n",
       "0                  115.483775   \n",
       "1                  115.405197   \n",
       "2                  115.939236   \n",
       "3                  116.212864   \n",
       "4                  115.854371   \n",
       "...                       ...   \n",
       "772279              39.254200   \n",
       "772280              39.210473   \n",
       "772281              39.254837   \n",
       "772282              39.229946   \n",
       "772283              39.224120   \n",
       "\n",
       "                                        properties.nearby properties.region  \\\n",
       "0                                                     NaN  Шилкинский район   \n",
       "1                                                     NaN  Шилкинский район   \n",
       "2                         Мост,Нерегулируемый перекрёсток  Шилкинский район   \n",
       "3                                                     NaN  Шилкинский район   \n",
       "4                     Жилые дома индивидуальной застройки  Шилкинский район   \n",
       "...                                                   ...               ...   \n",
       "772279                                                NaN       Нововоронеж   \n",
       "772280  Жилые дома индивидуальной застройки,Крупный то...       Нововоронеж   \n",
       "772281  Жилые дома индивидуальной застройки,Нерегулиру...       Нововоронеж   \n",
       "772282             АЗС,Остановка общественного транспорта       Нововоронеж   \n",
       "772283  Нерегулируемый перекрёсток неравнозначных улиц...       Нововоронеж   \n",
       "\n",
       "                                       properties.address properties.weather  \\\n",
       "0                              ДАРАСУН - СОЛНЦЕВО, 143 км               Ясно   \n",
       "1                 ПЕРВОМАЙСК - ЦАГАН-ОЛУЙ - КОНДУЙ, 32 км               Ясно   \n",
       "2       Р-297 Амур Чита - Невер - Свободный - Архара -...           Пасмурно   \n",
       "3                     МОГОЙТУЙ - СРЕТЕНСК - ОЛОЧИ, 137 км               Ясно   \n",
       "4                              с Казаново, ул Чапаева, 24               Ясно   \n",
       "...                                                   ...                ...   \n",
       "772279     г Нововоронеж, зона Восточная промышленная, 24           Пасмурно   \n",
       "772280                        г Нововоронеж, ул Победы, 7               Ясно   \n",
       "772281                г Нововоронеж, ул Полубяновская, 49               Ясно   \n",
       "772282                    г Нововоронеж, ш Воронежское, 4               Ясно   \n",
       "772283                   г Нововоронеж, ул Вокзальная, 2Б           Пасмурно   \n",
       "\n",
       "           properties.category  properties.datetime properties.severity  \\\n",
       "0                Опрокидывание  2019-07-25 16:50:00         С погибшими   \n",
       "1                Опрокидывание  2020-05-16 18:00:00             Тяжёлый   \n",
       "2                 Столкновение  2019-10-03 20:00:00              Легкий   \n",
       "3                 Столкновение  2020-11-18 22:00:00         С погибшими   \n",
       "4               Съезд с дороги  2021-01-31 05:00:00              Легкий   \n",
       "...                        ...                  ...                 ...   \n",
       "772279            Столкновение  2020-01-29 07:10:00              Легкий   \n",
       "772280            Столкновение  2021-07-12 17:10:00             Тяжёлый   \n",
       "772281           Опрокидывание  2021-06-20 19:30:00              Легкий   \n",
       "772282  Наезд на велосипедиста  2021-07-18 20:30:00             Тяжёлый   \n",
       "772283            Столкновение  2021-07-16 07:50:00              Легкий   \n",
       "\n",
       "        properties.dead_count  properties.injured_count  \\\n",
       "0                           1                         2   \n",
       "1                           0                         2   \n",
       "2                           0                         1   \n",
       "3                           2                         0   \n",
       "4                           0                         2   \n",
       "...                       ...                       ...   \n",
       "772279                      0                         3   \n",
       "772280                      0                         2   \n",
       "772281                      0                         1   \n",
       "772282                      0                         1   \n",
       "772283                      0                         2   \n",
       "\n",
       "                               properties.road_conditions  \\\n",
       "0                                                   Сухое   \n",
       "1                                                   Сухое   \n",
       "2                                                   Сухое   \n",
       "3                     Сухое,Недостатки зимнего содержания   \n",
       "4                                             Заснеженное   \n",
       "...                                                   ...   \n",
       "772279               Мокрое,Недостатки зимнего содержания   \n",
       "772280                                              Сухое   \n",
       "772281  Сухое,Отсутствие, плохая различимость горизонт...   \n",
       "772282                                              Сухое   \n",
       "772283  Сухое,Отсутствие, плохая различимость горизонт...   \n",
       "\n",
       "        properties.participants_count properties.participant_categories  \n",
       "0                                   3                     Все участники  \n",
       "1                                   2                     Все участники  \n",
       "2                                   3                     Все участники  \n",
       "3                                   3        Мотоциклисты,Все участники  \n",
       "4                                   2                     Все участники  \n",
       "...                               ...                               ...  \n",
       "772279                              4                     Все участники  \n",
       "772280                              3                     Все участники  \n",
       "772281                              1                     Все участники  \n",
       "772282                              2       Все участники,Велосипедисты  \n",
       "772283                              2                     Все участники  \n",
       "\n",
       "[772284 rows x 16 columns]"
      ]
     },
     "execution_count": 5,
     "metadata": {},
     "output_type": "execute_result"
    }
   ],
   "source": [
    "# получение данных из файла в датафрейм \n",
    "df = pd.read_csv('session1.csv')\n",
    "df"
   ]
  },
  {
   "cell_type": "markdown",
   "id": "a8f52675",
   "metadata": {},
   "source": [
    "## Копирование оригинального датафрейма во временный и проведение очистки"
   ]
  },
  {
   "cell_type": "code",
   "execution_count": 6,
   "id": "76540da7",
   "metadata": {},
   "outputs": [
    {
     "data": {
      "text/plain": [
       "properties.tags                           0\n",
       "properties.light                          0\n",
       "properties.point.lat                   7392\n",
       "properties.point.long                  7392\n",
       "properties.nearby                    189712\n",
       "properties.region                         0\n",
       "properties.address                    37188\n",
       "properties.weather                        1\n",
       "properties.category                       0\n",
       "properties.datetime                       0\n",
       "properties.severity                       0\n",
       "properties.dead_count                     0\n",
       "properties.injured_count                  0\n",
       "properties.road_conditions                1\n",
       "properties.participants_count             0\n",
       "properties.participant_categories         1\n",
       "dtype: int64"
      ]
     },
     "execution_count": 6,
     "metadata": {},
     "output_type": "execute_result"
    }
   ],
   "source": [
    "# Просмотр количества пустых значений\n",
    "df.iloc[:].isna().sum()"
   ]
  },
  {
   "cell_type": "code",
   "execution_count": 7,
   "id": "321d6c44",
   "metadata": {},
   "outputs": [],
   "source": [
    "# Копирование оригального датафрейма во временный для сохранности данных\n",
    "df2 = df.copy(deep=True)"
   ]
  },
  {
   "cell_type": "code",
   "execution_count": 8,
   "id": "04e5103d",
   "metadata": {},
   "outputs": [],
   "source": [
    "# удаление пустых значений у признаков properties.road_conditions и properties.participant_categories\n",
    "df2.drop(df2[df2['properties.road_conditions'].isna()].index, inplace=True)\n",
    "df2.drop(df2[df2['properties.participant_categories'].isna()].index, inplace=True)"
   ]
  },
  {
   "cell_type": "code",
   "execution_count": 9,
   "id": "dd4ac0be",
   "metadata": {},
   "outputs": [
    {
     "data": {
      "text/plain": [
       "properties.tags                           0\n",
       "properties.light                          0\n",
       "properties.point.lat                   7392\n",
       "properties.point.long                  7392\n",
       "properties.nearby                    189711\n",
       "properties.region                         0\n",
       "properties.address                    37188\n",
       "properties.weather                        0\n",
       "properties.category                       0\n",
       "properties.datetime                       0\n",
       "properties.severity                       0\n",
       "properties.dead_count                     0\n",
       "properties.injured_count                  0\n",
       "properties.road_conditions                0\n",
       "properties.participants_count             0\n",
       "properties.participant_categories         0\n",
       "dtype: int64"
      ]
     },
     "execution_count": 9,
     "metadata": {},
     "output_type": "execute_result"
    }
   ],
   "source": [
    "# Просмотр количества пустых значений\n",
    "df2.iloc[:].isna().sum()"
   ]
  },
  {
   "cell_type": "code",
   "execution_count": 10,
   "id": "d6704fc6",
   "metadata": {},
   "outputs": [],
   "source": [
    "# Удаление пустых значений у признаков properties.point.lat и properties.point.long\n",
    "df2 = df2.drop(df2[df2['properties.point.lat'].isna()].index)\n",
    "df2 = df2.drop(df2[df2['properties.point.long'].isna()].index)"
   ]
  },
  {
   "cell_type": "code",
   "execution_count": 11,
   "id": "95212c27",
   "metadata": {},
   "outputs": [],
   "source": [
    "# Удаление столбца properties.datetime\n",
    "df2 = df2.drop(columns=['properties.datetime'])"
   ]
  },
  {
   "cell_type": "code",
   "execution_count": 12,
   "id": "ee1b186d",
   "metadata": {},
   "outputs": [],
   "source": [
    "# Удаление значений \"Не установлено\" у признака properties.light\n",
    "df2 = df2.drop(df2[df2['properties.light'] == 'Не установлено'].index)"
   ]
  },
  {
   "cell_type": "code",
   "execution_count": 13,
   "id": "a8a15b94",
   "metadata": {},
   "outputs": [],
   "source": [
    "# Заполнение пустых значений признака properties.nearby на \"ничего\"\n",
    "df2['properties.nearby'] = df2['properties.nearby'].fillna('ничего')"
   ]
  },
  {
   "cell_type": "code",
   "execution_count": 14,
   "id": "09d02370",
   "metadata": {},
   "outputs": [],
   "source": [
    "# Удаление пустых значений из properties.address\n",
    "df2.drop(df2[df2['properties.address'].isna()].index, inplace=True)"
   ]
  },
  {
   "cell_type": "code",
   "execution_count": 15,
   "id": "4f462f2c",
   "metadata": {
    "scrolled": true
   },
   "outputs": [
    {
     "data": {
      "text/plain": [
       "properties.tags                      0\n",
       "properties.light                     0\n",
       "properties.point.lat                 0\n",
       "properties.point.long                0\n",
       "properties.nearby                    0\n",
       "properties.region                    0\n",
       "properties.address                   0\n",
       "properties.weather                   0\n",
       "properties.category                  0\n",
       "properties.severity                  0\n",
       "properties.dead_count                0\n",
       "properties.injured_count             0\n",
       "properties.road_conditions           0\n",
       "properties.participants_count        0\n",
       "properties.participant_categories    0\n",
       "dtype: int64"
      ]
     },
     "execution_count": 15,
     "metadata": {},
     "output_type": "execute_result"
    }
   ],
   "source": [
    "# Повторная проверка на пустые значения\n",
    "df2.isna().sum()"
   ]
  },
  {
   "cell_type": "markdown",
   "id": "c01ba717",
   "metadata": {},
   "source": [
    "## 2.1 Добавление нового признака"
   ]
  },
  {
   "cell_type": "code",
   "execution_count": 16,
   "id": "3dc30b68",
   "metadata": {},
   "outputs": [],
   "source": [
    "# Чем серьезнее авария, тем больше будет значение properties.severity\n",
    "df2['properties.severity'] = df2['properties.severity'].map({'Легкий' : 1, 'Тяжёлый' : 2, 'С погибшими' : 3})"
   ]
  },
  {
   "cell_type": "markdown",
   "id": "38a88eb2",
   "metadata": {},
   "source": [
    "#### формирование нескольких датафреймов для получения количества аварий и их отношения ко всем в этом регионе"
   ]
  },
  {
   "cell_type": "code",
   "execution_count": 17,
   "id": "ef057009",
   "metadata": {},
   "outputs": [],
   "source": [
    "# Формирование нового датафрейма для получения количества аварий по адресу\n",
    "new_df = pd.DataFrame()\n",
    "new_df['all_address'] = df2.groupby(['properties.region', 'properties.address']).size()\n",
    "new_df = new_df.reset_index()"
   ]
  },
  {
   "cell_type": "code",
   "execution_count": 18,
   "id": "319f23bd",
   "metadata": {},
   "outputs": [
    {
     "data": {
      "text/html": [
       "<div>\n",
       "<style scoped>\n",
       "    .dataframe tbody tr th:only-of-type {\n",
       "        vertical-align: middle;\n",
       "    }\n",
       "\n",
       "    .dataframe tbody tr th {\n",
       "        vertical-align: top;\n",
       "    }\n",
       "\n",
       "    .dataframe thead th {\n",
       "        text-align: right;\n",
       "    }\n",
       "</style>\n",
       "<table border=\"1\" class=\"dataframe\">\n",
       "  <thead>\n",
       "    <tr style=\"text-align: right;\">\n",
       "      <th></th>\n",
       "      <th>properties.region</th>\n",
       "      <th>properties.address</th>\n",
       "      <th>all_address</th>\n",
       "    </tr>\n",
       "  </thead>\n",
       "  <tbody>\n",
       "    <tr>\n",
       "      <th>0</th>\n",
       "      <td>7 - Завитинский район</td>\n",
       "      <td>«Завитинск – Поярково» – Платово, 4 км</td>\n",
       "      <td>1</td>\n",
       "    </tr>\n",
       "    <tr>\n",
       "      <th>1</th>\n",
       "      <td>7 - Завитинский район</td>\n",
       "      <td>Завитинск – Поярково, 22 км</td>\n",
       "      <td>1</td>\n",
       "    </tr>\n",
       "    <tr>\n",
       "      <th>2</th>\n",
       "      <td>7 - Завитинский район</td>\n",
       "      <td>Завитинск – Райчихиск, 14 км</td>\n",
       "      <td>1</td>\n",
       "    </tr>\n",
       "    <tr>\n",
       "      <th>3</th>\n",
       "      <td>7 - Завитинский район</td>\n",
       "      <td>Завитинск – Райчихиск, 34 км</td>\n",
       "      <td>1</td>\n",
       "    </tr>\n",
       "    <tr>\n",
       "      <th>4</th>\n",
       "      <td>7 - Завитинский район</td>\n",
       "      <td>Обход г. Завитинска, 3 км</td>\n",
       "      <td>1</td>\n",
       "    </tr>\n",
       "    <tr>\n",
       "      <th>...</th>\n",
       "      <td>...</td>\n",
       "      <td>...</td>\n",
       "      <td>...</td>\n",
       "    </tr>\n",
       "    <tr>\n",
       "      <th>454940</th>\n",
       "      <td>пос. Видяево</td>\n",
       "      <td>п Видяево, ул Центральная, 6</td>\n",
       "      <td>1</td>\n",
       "    </tr>\n",
       "    <tr>\n",
       "      <th>454941</th>\n",
       "      <td>пос. Горный</td>\n",
       "      <td>п Горный, МЕСТНЫЕ ДОРОГИ</td>\n",
       "      <td>1</td>\n",
       "    </tr>\n",
       "    <tr>\n",
       "      <th>454942</th>\n",
       "      <td>пос. Горный</td>\n",
       "      <td>п Горный, МЕСТНЫЕ ДОРОГИ, 3 км</td>\n",
       "      <td>2</td>\n",
       "    </tr>\n",
       "    <tr>\n",
       "      <th>454943</th>\n",
       "      <td>пос. Горный</td>\n",
       "      <td>п Горный, ул Солнечная, 139</td>\n",
       "      <td>1</td>\n",
       "    </tr>\n",
       "    <tr>\n",
       "      <th>454944</th>\n",
       "      <td>пос. Палана</td>\n",
       "      <td>пгт Палана, ул Совхозная, 6</td>\n",
       "      <td>1</td>\n",
       "    </tr>\n",
       "  </tbody>\n",
       "</table>\n",
       "<p>454945 rows × 3 columns</p>\n",
       "</div>"
      ],
      "text/plain": [
       "            properties.region                      properties.address  \\\n",
       "0       7 - Завитинский район  «Завитинск – Поярково» – Платово, 4 км   \n",
       "1       7 - Завитинский район             Завитинск – Поярково, 22 км   \n",
       "2       7 - Завитинский район            Завитинск – Райчихиск, 14 км   \n",
       "3       7 - Завитинский район            Завитинск – Райчихиск, 34 км   \n",
       "4       7 - Завитинский район               Обход г. Завитинска, 3 км   \n",
       "...                       ...                                     ...   \n",
       "454940           пос. Видяево            п Видяево, ул Центральная, 6   \n",
       "454941            пос. Горный                п Горный, МЕСТНЫЕ ДОРОГИ   \n",
       "454942            пос. Горный          п Горный, МЕСТНЫЕ ДОРОГИ, 3 км   \n",
       "454943            пос. Горный             п Горный, ул Солнечная, 139   \n",
       "454944            пос. Палана             пгт Палана, ул Совхозная, 6   \n",
       "\n",
       "        all_address  \n",
       "0                 1  \n",
       "1                 1  \n",
       "2                 1  \n",
       "3                 1  \n",
       "4                 1  \n",
       "...             ...  \n",
       "454940            1  \n",
       "454941            1  \n",
       "454942            2  \n",
       "454943            1  \n",
       "454944            1  \n",
       "\n",
       "[454945 rows x 3 columns]"
      ]
     },
     "execution_count": 18,
     "metadata": {},
     "output_type": "execute_result"
    }
   ],
   "source": [
    "new_df"
   ]
  },
  {
   "cell_type": "code",
   "execution_count": 19,
   "id": "6f190758",
   "metadata": {},
   "outputs": [
    {
     "data": {
      "text/html": [
       "<div>\n",
       "<style scoped>\n",
       "    .dataframe tbody tr th:only-of-type {\n",
       "        vertical-align: middle;\n",
       "    }\n",
       "\n",
       "    .dataframe tbody tr th {\n",
       "        vertical-align: top;\n",
       "    }\n",
       "\n",
       "    .dataframe thead th {\n",
       "        text-align: right;\n",
       "    }\n",
       "</style>\n",
       "<table border=\"1\" class=\"dataframe\">\n",
       "  <thead>\n",
       "    <tr style=\"text-align: right;\">\n",
       "      <th></th>\n",
       "      <th>properties.region</th>\n",
       "      <th>all</th>\n",
       "    </tr>\n",
       "  </thead>\n",
       "  <tbody>\n",
       "    <tr>\n",
       "      <th>0</th>\n",
       "      <td>7 - Завитинский район</td>\n",
       "      <td>25</td>\n",
       "    </tr>\n",
       "    <tr>\n",
       "      <th>1</th>\n",
       "      <td>Абаза</td>\n",
       "      <td>15</td>\n",
       "    </tr>\n",
       "    <tr>\n",
       "      <th>2</th>\n",
       "      <td>Абазинский район</td>\n",
       "      <td>23</td>\n",
       "    </tr>\n",
       "    <tr>\n",
       "      <th>3</th>\n",
       "      <td>Абакан</td>\n",
       "      <td>487</td>\n",
       "    </tr>\n",
       "    <tr>\n",
       "      <th>4</th>\n",
       "      <td>Абанский район</td>\n",
       "      <td>65</td>\n",
       "    </tr>\n",
       "    <tr>\n",
       "      <th>...</th>\n",
       "      <td>...</td>\n",
       "      <td>...</td>\n",
       "    </tr>\n",
       "    <tr>\n",
       "      <th>2261</th>\n",
       "      <td>им. Полины Осипенко район</td>\n",
       "      <td>11</td>\n",
       "    </tr>\n",
       "    <tr>\n",
       "      <th>2262</th>\n",
       "      <td>пгт. Углегорск</td>\n",
       "      <td>3</td>\n",
       "    </tr>\n",
       "    <tr>\n",
       "      <th>2263</th>\n",
       "      <td>пос. Видяево</td>\n",
       "      <td>1</td>\n",
       "    </tr>\n",
       "    <tr>\n",
       "      <th>2264</th>\n",
       "      <td>пос. Горный</td>\n",
       "      <td>4</td>\n",
       "    </tr>\n",
       "    <tr>\n",
       "      <th>2265</th>\n",
       "      <td>пос. Палана</td>\n",
       "      <td>1</td>\n",
       "    </tr>\n",
       "  </tbody>\n",
       "</table>\n",
       "<p>2266 rows × 2 columns</p>\n",
       "</div>"
      ],
      "text/plain": [
       "              properties.region  all\n",
       "0         7 - Завитинский район   25\n",
       "1                         Абаза   15\n",
       "2              Абазинский район   23\n",
       "3                        Абакан  487\n",
       "4                Абанский район   65\n",
       "...                         ...  ...\n",
       "2261  им. Полины Осипенко район   11\n",
       "2262             пгт. Углегорск    3\n",
       "2263               пос. Видяево    1\n",
       "2264                пос. Горный    4\n",
       "2265                пос. Палана    1\n",
       "\n",
       "[2266 rows x 2 columns]"
      ]
     },
     "execution_count": 19,
     "metadata": {},
     "output_type": "execute_result"
    }
   ],
   "source": [
    "# Формирование нового датафрейма для получения количества аварий по региону\n",
    "regions = pd.DataFrame()\n",
    "regions['all'] = df2.groupby(['properties.region']).size()\n",
    "regions = regions.reset_index()\n",
    "regions"
   ]
  },
  {
   "cell_type": "code",
   "execution_count": 20,
   "id": "10dbe290",
   "metadata": {},
   "outputs": [],
   "source": [
    "# Формирование нового датафрейма для получения доли по отшношению ко всем в регионе \n",
    "res = pd.merge(new_df, regions)"
   ]
  },
  {
   "cell_type": "code",
   "execution_count": 21,
   "id": "b16f7b85",
   "metadata": {},
   "outputs": [],
   "source": [
    "# Высчитывание доли\n",
    "res['fraction'] = res.apply(lambda x: x['all_address'] / x['all'], axis=1)"
   ]
  },
  {
   "cell_type": "code",
   "execution_count": 22,
   "id": "d68ad60e",
   "metadata": {},
   "outputs": [
    {
     "data": {
      "text/html": [
       "<div>\n",
       "<style scoped>\n",
       "    .dataframe tbody tr th:only-of-type {\n",
       "        vertical-align: middle;\n",
       "    }\n",
       "\n",
       "    .dataframe tbody tr th {\n",
       "        vertical-align: top;\n",
       "    }\n",
       "\n",
       "    .dataframe thead th {\n",
       "        text-align: right;\n",
       "    }\n",
       "</style>\n",
       "<table border=\"1\" class=\"dataframe\">\n",
       "  <thead>\n",
       "    <tr style=\"text-align: right;\">\n",
       "      <th></th>\n",
       "      <th>properties.region</th>\n",
       "      <th>properties.address</th>\n",
       "      <th>all_address</th>\n",
       "      <th>all</th>\n",
       "      <th>fraction</th>\n",
       "    </tr>\n",
       "  </thead>\n",
       "  <tbody>\n",
       "    <tr>\n",
       "      <th>0</th>\n",
       "      <td>7 - Завитинский район</td>\n",
       "      <td>«Завитинск – Поярково» – Платово, 4 км</td>\n",
       "      <td>1</td>\n",
       "      <td>25</td>\n",
       "      <td>0.04</td>\n",
       "    </tr>\n",
       "    <tr>\n",
       "      <th>1</th>\n",
       "      <td>7 - Завитинский район</td>\n",
       "      <td>Завитинск – Поярково, 22 км</td>\n",
       "      <td>1</td>\n",
       "      <td>25</td>\n",
       "      <td>0.04</td>\n",
       "    </tr>\n",
       "    <tr>\n",
       "      <th>2</th>\n",
       "      <td>7 - Завитинский район</td>\n",
       "      <td>Завитинск – Райчихиск, 14 км</td>\n",
       "      <td>1</td>\n",
       "      <td>25</td>\n",
       "      <td>0.04</td>\n",
       "    </tr>\n",
       "    <tr>\n",
       "      <th>3</th>\n",
       "      <td>7 - Завитинский район</td>\n",
       "      <td>Завитинск – Райчихиск, 34 км</td>\n",
       "      <td>1</td>\n",
       "      <td>25</td>\n",
       "      <td>0.04</td>\n",
       "    </tr>\n",
       "    <tr>\n",
       "      <th>4</th>\n",
       "      <td>7 - Завитинский район</td>\n",
       "      <td>Обход г. Завитинска, 3 км</td>\n",
       "      <td>1</td>\n",
       "      <td>25</td>\n",
       "      <td>0.04</td>\n",
       "    </tr>\n",
       "    <tr>\n",
       "      <th>...</th>\n",
       "      <td>...</td>\n",
       "      <td>...</td>\n",
       "      <td>...</td>\n",
       "      <td>...</td>\n",
       "      <td>...</td>\n",
       "    </tr>\n",
       "    <tr>\n",
       "      <th>454940</th>\n",
       "      <td>пос. Видяево</td>\n",
       "      <td>п Видяево, ул Центральная, 6</td>\n",
       "      <td>1</td>\n",
       "      <td>1</td>\n",
       "      <td>1.00</td>\n",
       "    </tr>\n",
       "    <tr>\n",
       "      <th>454941</th>\n",
       "      <td>пос. Горный</td>\n",
       "      <td>п Горный, МЕСТНЫЕ ДОРОГИ</td>\n",
       "      <td>1</td>\n",
       "      <td>4</td>\n",
       "      <td>0.25</td>\n",
       "    </tr>\n",
       "    <tr>\n",
       "      <th>454942</th>\n",
       "      <td>пос. Горный</td>\n",
       "      <td>п Горный, МЕСТНЫЕ ДОРОГИ, 3 км</td>\n",
       "      <td>2</td>\n",
       "      <td>4</td>\n",
       "      <td>0.50</td>\n",
       "    </tr>\n",
       "    <tr>\n",
       "      <th>454943</th>\n",
       "      <td>пос. Горный</td>\n",
       "      <td>п Горный, ул Солнечная, 139</td>\n",
       "      <td>1</td>\n",
       "      <td>4</td>\n",
       "      <td>0.25</td>\n",
       "    </tr>\n",
       "    <tr>\n",
       "      <th>454944</th>\n",
       "      <td>пос. Палана</td>\n",
       "      <td>пгт Палана, ул Совхозная, 6</td>\n",
       "      <td>1</td>\n",
       "      <td>1</td>\n",
       "      <td>1.00</td>\n",
       "    </tr>\n",
       "  </tbody>\n",
       "</table>\n",
       "<p>454945 rows × 5 columns</p>\n",
       "</div>"
      ],
      "text/plain": [
       "            properties.region                      properties.address  \\\n",
       "0       7 - Завитинский район  «Завитинск – Поярково» – Платово, 4 км   \n",
       "1       7 - Завитинский район             Завитинск – Поярково, 22 км   \n",
       "2       7 - Завитинский район            Завитинск – Райчихиск, 14 км   \n",
       "3       7 - Завитинский район            Завитинск – Райчихиск, 34 км   \n",
       "4       7 - Завитинский район               Обход г. Завитинска, 3 км   \n",
       "...                       ...                                     ...   \n",
       "454940           пос. Видяево            п Видяево, ул Центральная, 6   \n",
       "454941            пос. Горный                п Горный, МЕСТНЫЕ ДОРОГИ   \n",
       "454942            пос. Горный          п Горный, МЕСТНЫЕ ДОРОГИ, 3 км   \n",
       "454943            пос. Горный             п Горный, ул Солнечная, 139   \n",
       "454944            пос. Палана             пгт Палана, ул Совхозная, 6   \n",
       "\n",
       "        all_address  all  fraction  \n",
       "0                 1   25      0.04  \n",
       "1                 1   25      0.04  \n",
       "2                 1   25      0.04  \n",
       "3                 1   25      0.04  \n",
       "4                 1   25      0.04  \n",
       "...             ...  ...       ...  \n",
       "454940            1    1      1.00  \n",
       "454941            1    4      0.25  \n",
       "454942            2    4      0.50  \n",
       "454943            1    4      0.25  \n",
       "454944            1    1      1.00  \n",
       "\n",
       "[454945 rows x 5 columns]"
      ]
     },
     "execution_count": 22,
     "metadata": {},
     "output_type": "execute_result"
    }
   ],
   "source": [
    "res"
   ]
  },
  {
   "cell_type": "code",
   "execution_count": 23,
   "id": "1f9067c2",
   "metadata": {},
   "outputs": [],
   "source": [
    "# Объединение df2 и res\n",
    "df2 = pd.merge(res, df2)"
   ]
  },
  {
   "cell_type": "code",
   "execution_count": 24,
   "id": "b4f2de8a",
   "metadata": {
    "scrolled": true
   },
   "outputs": [
    {
     "data": {
      "text/html": [
       "<div>\n",
       "<style scoped>\n",
       "    .dataframe tbody tr th:only-of-type {\n",
       "        vertical-align: middle;\n",
       "    }\n",
       "\n",
       "    .dataframe tbody tr th {\n",
       "        vertical-align: top;\n",
       "    }\n",
       "\n",
       "    .dataframe thead th {\n",
       "        text-align: right;\n",
       "    }\n",
       "</style>\n",
       "<table border=\"1\" class=\"dataframe\">\n",
       "  <thead>\n",
       "    <tr style=\"text-align: right;\">\n",
       "      <th></th>\n",
       "      <th>properties.region</th>\n",
       "      <th>properties.address</th>\n",
       "      <th>all_address</th>\n",
       "      <th>all</th>\n",
       "      <th>fraction</th>\n",
       "      <th>properties.tags</th>\n",
       "      <th>properties.light</th>\n",
       "      <th>properties.point.lat</th>\n",
       "      <th>properties.point.long</th>\n",
       "      <th>properties.nearby</th>\n",
       "      <th>properties.weather</th>\n",
       "      <th>properties.category</th>\n",
       "      <th>properties.severity</th>\n",
       "      <th>properties.dead_count</th>\n",
       "      <th>properties.injured_count</th>\n",
       "      <th>properties.road_conditions</th>\n",
       "      <th>properties.participants_count</th>\n",
       "      <th>properties.participant_categories</th>\n",
       "    </tr>\n",
       "  </thead>\n",
       "  <tbody>\n",
       "    <tr>\n",
       "      <th>0</th>\n",
       "      <td>7 - Завитинский район</td>\n",
       "      <td>«Завитинск – Поярково» – Платово, 4 км</td>\n",
       "      <td>1</td>\n",
       "      <td>25</td>\n",
       "      <td>0.04</td>\n",
       "      <td>Дорожно-транспортные происшествия</td>\n",
       "      <td>В темное время суток, освещение отсутствует</td>\n",
       "      <td>50.109983</td>\n",
       "      <td>129.259086</td>\n",
       "      <td>ничего</td>\n",
       "      <td>Ясно</td>\n",
       "      <td>Съезд с дороги</td>\n",
       "      <td>1</td>\n",
       "      <td>0</td>\n",
       "      <td>1</td>\n",
       "      <td>Сухое</td>\n",
       "      <td>1</td>\n",
       "      <td>Все участники</td>\n",
       "    </tr>\n",
       "    <tr>\n",
       "      <th>1</th>\n",
       "      <td>7 - Завитинский район</td>\n",
       "      <td>Завитинск – Поярково, 22 км</td>\n",
       "      <td>1</td>\n",
       "      <td>25</td>\n",
       "      <td>0.04</td>\n",
       "      <td>Дорожно-транспортные происшествия</td>\n",
       "      <td>Светлое время суток</td>\n",
       "      <td>50.076257</td>\n",
       "      <td>129.293976</td>\n",
       "      <td>Выезд с прилегающей территории</td>\n",
       "      <td>Ясно</td>\n",
       "      <td>Столкновение</td>\n",
       "      <td>2</td>\n",
       "      <td>0</td>\n",
       "      <td>2</td>\n",
       "      <td>Сухое</td>\n",
       "      <td>3</td>\n",
       "      <td>Все участники</td>\n",
       "    </tr>\n",
       "    <tr>\n",
       "      <th>2</th>\n",
       "      <td>7 - Завитинский район</td>\n",
       "      <td>Завитинск – Райчихиск, 14 км</td>\n",
       "      <td>1</td>\n",
       "      <td>25</td>\n",
       "      <td>0.04</td>\n",
       "      <td>Дорожно-транспортные происшествия</td>\n",
       "      <td>Светлое время суток</td>\n",
       "      <td>49.993340</td>\n",
       "      <td>129.373069</td>\n",
       "      <td>ничего</td>\n",
       "      <td>Ясно</td>\n",
       "      <td>Опрокидывание</td>\n",
       "      <td>1</td>\n",
       "      <td>0</td>\n",
       "      <td>1</td>\n",
       "      <td>Сухое</td>\n",
       "      <td>2</td>\n",
       "      <td>Мотоциклисты,Все участники</td>\n",
       "    </tr>\n",
       "  </tbody>\n",
       "</table>\n",
       "</div>"
      ],
      "text/plain": [
       "       properties.region                      properties.address  all_address  \\\n",
       "0  7 - Завитинский район  «Завитинск – Поярково» – Платово, 4 км            1   \n",
       "1  7 - Завитинский район             Завитинск – Поярково, 22 км            1   \n",
       "2  7 - Завитинский район            Завитинск – Райчихиск, 14 км            1   \n",
       "\n",
       "   all  fraction                    properties.tags  \\\n",
       "0   25      0.04  Дорожно-транспортные происшествия   \n",
       "1   25      0.04  Дорожно-транспортные происшествия   \n",
       "2   25      0.04  Дорожно-транспортные происшествия   \n",
       "\n",
       "                              properties.light  properties.point.lat  \\\n",
       "0  В темное время суток, освещение отсутствует             50.109983   \n",
       "1                          Светлое время суток             50.076257   \n",
       "2                          Светлое время суток             49.993340   \n",
       "\n",
       "   properties.point.long               properties.nearby properties.weather  \\\n",
       "0             129.259086                          ничего               Ясно   \n",
       "1             129.293976  Выезд с прилегающей территории               Ясно   \n",
       "2             129.373069                          ничего               Ясно   \n",
       "\n",
       "  properties.category  properties.severity  properties.dead_count  \\\n",
       "0      Съезд с дороги                    1                      0   \n",
       "1        Столкновение                    2                      0   \n",
       "2       Опрокидывание                    1                      0   \n",
       "\n",
       "   properties.injured_count properties.road_conditions  \\\n",
       "0                         1                      Сухое   \n",
       "1                         2                      Сухое   \n",
       "2                         1                      Сухое   \n",
       "\n",
       "   properties.participants_count properties.participant_categories  \n",
       "0                              1                     Все участники  \n",
       "1                              3                     Все участники  \n",
       "2                              2        Мотоциклисты,Все участники  "
      ]
     },
     "execution_count": 24,
     "metadata": {},
     "output_type": "execute_result"
    }
   ],
   "source": [
    "df2.head(3)"
   ]
  },
  {
   "cell_type": "markdown",
   "id": "1a192999",
   "metadata": {},
   "source": [
    "### Рассчитывание индекса опасности по формуле fraction' * all_address * properties.severity, где, чем больше значение, тем больше ущерб от аварии"
   ]
  },
  {
   "cell_type": "code",
   "execution_count": 25,
   "id": "f933d7ec",
   "metadata": {},
   "outputs": [],
   "source": [
    "# Рассчитывание значения индекса и добавление его в новый столбец\n",
    "df2['index_of_danger'] = df2.apply(lambda x: x['fraction'] * x['all_address'] * x['properties.severity'], axis=1)"
   ]
  },
  {
   "cell_type": "code",
   "execution_count": 26,
   "id": "37dac018",
   "metadata": {
    "scrolled": true
   },
   "outputs": [
    {
     "data": {
      "text/html": [
       "<div>\n",
       "<style scoped>\n",
       "    .dataframe tbody tr th:only-of-type {\n",
       "        vertical-align: middle;\n",
       "    }\n",
       "\n",
       "    .dataframe tbody tr th {\n",
       "        vertical-align: top;\n",
       "    }\n",
       "\n",
       "    .dataframe thead th {\n",
       "        text-align: right;\n",
       "    }\n",
       "</style>\n",
       "<table border=\"1\" class=\"dataframe\">\n",
       "  <thead>\n",
       "    <tr style=\"text-align: right;\">\n",
       "      <th></th>\n",
       "      <th>properties.region</th>\n",
       "      <th>properties.address</th>\n",
       "      <th>all_address</th>\n",
       "      <th>all</th>\n",
       "      <th>fraction</th>\n",
       "      <th>properties.tags</th>\n",
       "      <th>properties.light</th>\n",
       "      <th>properties.point.lat</th>\n",
       "      <th>properties.point.long</th>\n",
       "      <th>properties.nearby</th>\n",
       "      <th>properties.weather</th>\n",
       "      <th>properties.category</th>\n",
       "      <th>properties.severity</th>\n",
       "      <th>properties.dead_count</th>\n",
       "      <th>properties.injured_count</th>\n",
       "      <th>properties.road_conditions</th>\n",
       "      <th>properties.participants_count</th>\n",
       "      <th>properties.participant_categories</th>\n",
       "      <th>index_of_danger</th>\n",
       "    </tr>\n",
       "  </thead>\n",
       "  <tbody>\n",
       "    <tr>\n",
       "      <th>0</th>\n",
       "      <td>7 - Завитинский район</td>\n",
       "      <td>«Завитинск – Поярково» – Платово, 4 км</td>\n",
       "      <td>1</td>\n",
       "      <td>25</td>\n",
       "      <td>0.04</td>\n",
       "      <td>Дорожно-транспортные происшествия</td>\n",
       "      <td>В темное время суток, освещение отсутствует</td>\n",
       "      <td>50.109983</td>\n",
       "      <td>129.259086</td>\n",
       "      <td>ничего</td>\n",
       "      <td>Ясно</td>\n",
       "      <td>Съезд с дороги</td>\n",
       "      <td>1</td>\n",
       "      <td>0</td>\n",
       "      <td>1</td>\n",
       "      <td>Сухое</td>\n",
       "      <td>1</td>\n",
       "      <td>Все участники</td>\n",
       "      <td>0.04</td>\n",
       "    </tr>\n",
       "    <tr>\n",
       "      <th>1</th>\n",
       "      <td>7 - Завитинский район</td>\n",
       "      <td>Завитинск – Поярково, 22 км</td>\n",
       "      <td>1</td>\n",
       "      <td>25</td>\n",
       "      <td>0.04</td>\n",
       "      <td>Дорожно-транспортные происшествия</td>\n",
       "      <td>Светлое время суток</td>\n",
       "      <td>50.076257</td>\n",
       "      <td>129.293976</td>\n",
       "      <td>Выезд с прилегающей территории</td>\n",
       "      <td>Ясно</td>\n",
       "      <td>Столкновение</td>\n",
       "      <td>2</td>\n",
       "      <td>0</td>\n",
       "      <td>2</td>\n",
       "      <td>Сухое</td>\n",
       "      <td>3</td>\n",
       "      <td>Все участники</td>\n",
       "      <td>0.08</td>\n",
       "    </tr>\n",
       "    <tr>\n",
       "      <th>2</th>\n",
       "      <td>7 - Завитинский район</td>\n",
       "      <td>Завитинск – Райчихиск, 14 км</td>\n",
       "      <td>1</td>\n",
       "      <td>25</td>\n",
       "      <td>0.04</td>\n",
       "      <td>Дорожно-транспортные происшествия</td>\n",
       "      <td>Светлое время суток</td>\n",
       "      <td>49.993340</td>\n",
       "      <td>129.373069</td>\n",
       "      <td>ничего</td>\n",
       "      <td>Ясно</td>\n",
       "      <td>Опрокидывание</td>\n",
       "      <td>1</td>\n",
       "      <td>0</td>\n",
       "      <td>1</td>\n",
       "      <td>Сухое</td>\n",
       "      <td>2</td>\n",
       "      <td>Мотоциклисты,Все участники</td>\n",
       "      <td>0.04</td>\n",
       "    </tr>\n",
       "  </tbody>\n",
       "</table>\n",
       "</div>"
      ],
      "text/plain": [
       "       properties.region                      properties.address  all_address  \\\n",
       "0  7 - Завитинский район  «Завитинск – Поярково» – Платово, 4 км            1   \n",
       "1  7 - Завитинский район             Завитинск – Поярково, 22 км            1   \n",
       "2  7 - Завитинский район            Завитинск – Райчихиск, 14 км            1   \n",
       "\n",
       "   all  fraction                    properties.tags  \\\n",
       "0   25      0.04  Дорожно-транспортные происшествия   \n",
       "1   25      0.04  Дорожно-транспортные происшествия   \n",
       "2   25      0.04  Дорожно-транспортные происшествия   \n",
       "\n",
       "                              properties.light  properties.point.lat  \\\n",
       "0  В темное время суток, освещение отсутствует             50.109983   \n",
       "1                          Светлое время суток             50.076257   \n",
       "2                          Светлое время суток             49.993340   \n",
       "\n",
       "   properties.point.long               properties.nearby properties.weather  \\\n",
       "0             129.259086                          ничего               Ясно   \n",
       "1             129.293976  Выезд с прилегающей территории               Ясно   \n",
       "2             129.373069                          ничего               Ясно   \n",
       "\n",
       "  properties.category  properties.severity  properties.dead_count  \\\n",
       "0      Съезд с дороги                    1                      0   \n",
       "1        Столкновение                    2                      0   \n",
       "2       Опрокидывание                    1                      0   \n",
       "\n",
       "   properties.injured_count properties.road_conditions  \\\n",
       "0                         1                      Сухое   \n",
       "1                         2                      Сухое   \n",
       "2                         1                      Сухое   \n",
       "\n",
       "   properties.participants_count properties.participant_categories  \\\n",
       "0                              1                     Все участники   \n",
       "1                              3                     Все участники   \n",
       "2                              2        Мотоциклисты,Все участники   \n",
       "\n",
       "   index_of_danger  \n",
       "0             0.04  \n",
       "1             0.08  \n",
       "2             0.04  "
      ]
     },
     "execution_count": 26,
     "metadata": {},
     "output_type": "execute_result"
    }
   ],
   "source": [
    "df2.head(3)"
   ]
  },
  {
   "cell_type": "code",
   "execution_count": 27,
   "id": "4b556bb8",
   "metadata": {},
   "outputs": [
    {
     "data": {
      "text/plain": [
       "count    728145.000000\n",
       "mean          0.055492\n",
       "std           0.298860\n",
       "min           0.000072\n",
       "25%           0.001507\n",
       "50%           0.006231\n",
       "75%           0.026846\n",
       "max          28.680498\n",
       "Name: index_of_danger, dtype: float64"
      ]
     },
     "execution_count": 27,
     "metadata": {},
     "output_type": "execute_result"
    }
   ],
   "source": [
    "# Просмотр распределение индекса опасности\n",
    "df2['index_of_danger'].describe()"
   ]
  },
  {
   "cell_type": "markdown",
   "id": "5df7704f",
   "metadata": {},
   "source": [
    "### Учитывая, что квартиль 75% равен 0.026846, можно утверждать, что индексы больше этого будут отображать аварии со значительным ущербом "
   ]
  },
  {
   "cell_type": "markdown",
   "id": "6bdfe14b",
   "metadata": {},
   "source": [
    "## Кодирование нечисловых признаков с помощью LabelEncoder"
   ]
  },
  {
   "cell_type": "code",
   "execution_count": 28,
   "id": "d48c216f",
   "metadata": {},
   "outputs": [],
   "source": [
    "le = preprocessing.LabelEncoder()\n",
    "df2['properties.tags'] = le.fit_transform(df2['properties.tags'])"
   ]
  },
  {
   "cell_type": "code",
   "execution_count": 29,
   "id": "1d6162c0",
   "metadata": {},
   "outputs": [],
   "source": [
    "le1 = preprocessing.LabelEncoder()\n",
    "df2['properties.light'] = le1.fit_transform(df2['properties.light'])"
   ]
  },
  {
   "cell_type": "code",
   "execution_count": 30,
   "id": "cc6f2f48",
   "metadata": {},
   "outputs": [],
   "source": [
    "df2['properties.nearby'] = df2['properties.nearby'].fillna(\"ничего\")"
   ]
  },
  {
   "cell_type": "code",
   "execution_count": 31,
   "id": "ea5989be",
   "metadata": {},
   "outputs": [],
   "source": [
    "le2 = preprocessing.LabelEncoder()\n",
    "df2['properties.nearby'] = le2.fit_transform(df2['properties.nearby'])"
   ]
  },
  {
   "cell_type": "code",
   "execution_count": 32,
   "id": "966f966a",
   "metadata": {},
   "outputs": [],
   "source": [
    "le3 = preprocessing.LabelEncoder()\n",
    "df2['properties.weather'] = le3.fit_transform(df2['properties.weather'])"
   ]
  },
  {
   "cell_type": "code",
   "execution_count": 33,
   "id": "8c727d2d",
   "metadata": {},
   "outputs": [],
   "source": [
    "le4 = preprocessing.LabelEncoder()\n",
    "df2['properties.category'] = le4.fit_transform(df2['properties.category'])"
   ]
  },
  {
   "cell_type": "code",
   "execution_count": 34,
   "id": "fabf0475",
   "metadata": {},
   "outputs": [],
   "source": [
    "le6 = preprocessing.LabelEncoder()\n",
    "df2['properties.road_conditions'] = le6.fit_transform(df2['properties.road_conditions'])"
   ]
  },
  {
   "cell_type": "code",
   "execution_count": 35,
   "id": "e3d6a11f",
   "metadata": {},
   "outputs": [],
   "source": [
    "le7 = preprocessing.LabelEncoder()\n",
    "df2['properties.participant_categories'] = le7.fit_transform(df2['properties.participant_categories'])"
   ]
  },
  {
   "cell_type": "markdown",
   "id": "3feac91c",
   "metadata": {},
   "source": [
    "## Доудаление столбцов, которые будут мешать обучению"
   ]
  },
  {
   "cell_type": "code",
   "execution_count": 36,
   "id": "4e8bbf97",
   "metadata": {},
   "outputs": [],
   "source": [
    "df2.drop(columns=['properties.region', 'properties.address', 'properties.point.lat',\n",
    "                  'properties.point.long'], inplace=True)"
   ]
  },
  {
   "cell_type": "code",
   "execution_count": 37,
   "id": "c7f0ed71",
   "metadata": {},
   "outputs": [],
   "source": [
    "df2.drop(['all_address', 'all', 'fraction'], axis=1, inplace=True)"
   ]
  },
  {
   "cell_type": "markdown",
   "id": "c074b2e2",
   "metadata": {},
   "source": [
    "## Скалирование данных и с помощью метода главных компонент приведение всех признаков в два главных признака"
   ]
  },
  {
   "cell_type": "code",
   "execution_count": 38,
   "id": "14ec0e90",
   "metadata": {},
   "outputs": [
    {
     "data": {
      "text/plain": [
       "(728145, 2)"
      ]
     },
     "execution_count": 38,
     "metadata": {},
     "output_type": "execute_result"
    }
   ],
   "source": [
    "# Скалирование данных\n",
    "from sklearn.preprocessing import StandardScaler\n",
    "scaler = StandardScaler()\n",
    "scaler.fit(df2)\n",
    "X_scale = scaler.transform(df2)\n",
    "scaled_data = pd.DataFrame(X_scale, columns=df2.columns)\n",
    "\n",
    "# Уменьшение размерности датафрейма до 2-х измерений\n",
    "from sklearn.decomposition import PCA\n",
    "pca = PCA(n_components=2)\n",
    "pca.fit(scaled_data)\n",
    "\n",
    "x_pca = pca.transform(scaled_data)\n",
    "np.shape(x_pca)"
   ]
  },
  {
   "cell_type": "markdown",
   "id": "3d8674aa",
   "metadata": {},
   "source": [
    "## Определение наилучшего количества кластеров по \"методу локтя\""
   ]
  },
  {
   "cell_type": "code",
   "execution_count": 39,
   "id": "64cb4087",
   "metadata": {
    "scrolled": false
   },
   "outputs": [
    {
     "data": {
      "image/png": "[encoded data removed]",
      "text/plain": [
       "<Figure size 432x288 with 1 Axes>"
      ]
     },
     "metadata": {
      "needs_background": "light"
     },
     "output_type": "display_data"
    }
   ],
   "source": [
    "from sklearn.cluster import KMeans\n",
    "wgcc = []\n",
    "for i in range(1,11):\n",
    "    kmean = KMeans(n_clusters=i, init='k-means++', random_state=0)\n",
    "    kmean.fit(x_pca)\n",
    "    wgcc.append(kmean.inertia_)\n",
    "plt.plot(range(1,11), wgcc);"
   ]
  },
  {
   "cell_type": "markdown",
   "id": "e92ac00f",
   "metadata": {},
   "source": [
    "### Выбираю 3 кластера"
   ]
  },
  {
   "cell_type": "markdown",
   "id": "be88efb5",
   "metadata": {},
   "source": [
    "## 2.2 Кластеризация"
   ]
  },
  {
   "cell_type": "markdown",
   "id": "0eb7c47b",
   "metadata": {},
   "source": [
    "## Выбор моделей"
   ]
  },
  {
   "cell_type": "markdown",
   "id": "2524083c",
   "metadata": {},
   "source": [
    "### Будут использоваться такие модели кластеризации как Kmeans, Birch и GaussianMixture, так как позволяют работать с большими объемами данных и выбирать количество кластеров"
   ]
  },
  {
   "cell_type": "markdown",
   "id": "15cc712d",
   "metadata": {},
   "source": [
    "### kmeans - "
   ]
  },
  {
   "cell_type": "markdown",
   "id": "0ed7cbb6",
   "metadata": {},
   "source": [
    "Он разбивает множество элементов векторного пространства на заранее известное число кластеров k.\n",
    "\n",
    "Основная идея заключается в том, что на каждой итерации перевычисляется центр масс для каждого кластера, полученного на предыдущем шаге, затем векторы разбиваются на кластеры вновь в соответствии с тем, какой из новых центров оказался ближе по выбранной метрике"
   ]
  },
  {
   "cell_type": "markdown",
   "id": "1e1f7ce5",
   "metadata": {},
   "source": [
    "### Birch -"
   ]
  },
  {
   "cell_type": "markdown",
   "id": "f59dad5d",
   "metadata": {},
   "source": [
    "это алгоритм интеллектуального анализа данных без учителя, используемый для осуществления иерархической кластеризации на наборах данных большого размера. Преимуществом BIRCH является возможность метода динамически кластеризовать по мере поступления многомерных метрических точек данных в попытке получить кластеризацию лучшего качества для имеющегося набора ресурсов"
   ]
  },
  {
   "cell_type": "markdown",
   "id": "f421ffd8",
   "metadata": {},
   "source": [
    "### GaussianMixture -"
   ]
  },
  {
   "cell_type": "markdown",
   "id": "a6418db0",
   "metadata": {},
   "source": [
    "Модель смеси Гаусса (GMM) пытается найти смесь многомерных гауссовских распределений вероятностей, которые лучше всего моделируют любой входной набор данных. В простейшем случае ГММ могут использоваться для поиска кластеров таким же образом, как k-средние"
   ]
  },
  {
   "cell_type": "markdown",
   "id": "15f40ed4",
   "metadata": {},
   "source": [
    "## Обучение kmeans"
   ]
  },
  {
   "cell_type": "code",
   "execution_count": 40,
   "id": "0e3fa079",
   "metadata": {},
   "outputs": [],
   "source": [
    "# Получение распределения от kmeans\n",
    "kmeans = KMeans(n_clusters=3, init='k-means++', random_state=0)\n",
    "label = kmeans.fit_predict(x_pca)"
   ]
  },
  {
   "cell_type": "markdown",
   "id": "df54a691",
   "metadata": {},
   "source": [
    "### График, используется scatter, тк наиболее демонстративно показывает распределение кластеров"
   ]
  },
  {
   "cell_type": "markdown",
   "id": "297d8a5b",
   "metadata": {},
   "source": [
    "### График kmeans"
   ]
  },
  {
   "cell_type": "code",
   "execution_count": 41,
   "id": "ca98276a",
   "metadata": {},
   "outputs": [
    {
     "data": {
      "text/plain": [
       "Text(0, 0.5, 'Second Principal Component')"
      ]
     },
     "execution_count": 41,
     "metadata": {},
     "output_type": "execute_result"
    },
    {
     "data": {
      "image/png": "[encoded data removed]",
      "text/plain": [
       "<Figure size 864x576 with 1 Axes>"
      ]
     },
     "metadata": {
      "needs_background": "light"
     },
     "output_type": "display_data"
    }
   ],
   "source": [
    "# График распределения кластеров в kmeans\n",
    "plt.figure(figsize=(12,8))\n",
    "plt.scatter(x_pca[:,0],x_pca[:,1],c=label,cmap='rainbow', alpha=0.4)\n",
    "plt.xlabel('First principal component')\n",
    "plt.ylabel('Second Principal Component')"
   ]
  },
  {
   "cell_type": "code",
   "execution_count": 42,
   "id": "c34aabdd",
   "metadata": {},
   "outputs": [
    {
     "data": {
      "text/plain": [
       "0    366051\n",
       "1    292662\n",
       "2     69432\n",
       "dtype: int64"
      ]
     },
     "execution_count": 42,
     "metadata": {},
     "output_type": "execute_result"
    }
   ],
   "source": [
    "# Просмотр того, как распределились данные \n",
    "label = pd.Series(label)\n",
    "label.value_counts()"
   ]
  },
  {
   "cell_type": "markdown",
   "id": "e06d125f",
   "metadata": {},
   "source": [
    "## Birch"
   ]
  },
  {
   "cell_type": "code",
   "execution_count": 43,
   "id": "499f592d",
   "metadata": {},
   "outputs": [],
   "source": [
    "# Получение распределения от Birch\n",
    "from sklearn.cluster import Birch\n",
    "\n",
    "brc = Birch(n_clusters=3)\n",
    "brc.fit(x_pca)\n",
    "\n",
    "label2 = brc.predict(x_pca)"
   ]
  },
  {
   "cell_type": "code",
   "execution_count": 44,
   "id": "b568a67a",
   "metadata": {},
   "outputs": [
    {
     "data": {
      "text/plain": [
       "0    725584\n",
       "2      2488\n",
       "1        73\n",
       "dtype: int64"
      ]
     },
     "execution_count": 44,
     "metadata": {},
     "output_type": "execute_result"
    }
   ],
   "source": [
    "# Просмотр того, как распределились данные \n",
    "label2 = pd.Series(label2)\n",
    "label2.value_counts()"
   ]
  },
  {
   "cell_type": "markdown",
   "id": "01de93d7",
   "metadata": {},
   "source": [
    "### График Birch"
   ]
  },
  {
   "cell_type": "code",
   "execution_count": 45,
   "id": "afd7ac13",
   "metadata": {
    "scrolled": false
   },
   "outputs": [
    {
     "data": {
      "text/plain": [
       "Text(0, 0.5, 'Second Principal Component')"
      ]
     },
     "execution_count": 45,
     "metadata": {},
     "output_type": "execute_result"
    },
    {
     "data": {
      "image/png": "[encoded data removed]",
      "text/plain": [
       "<Figure size 864x576 with 1 Axes>"
      ]
     },
     "metadata": {
      "needs_background": "light"
     },
     "output_type": "display_data"
    }
   ],
   "source": [
    "plt.figure(figsize=(12,8))\n",
    "plt.scatter(x_pca[:,0],x_pca[:,1],c=label2,cmap='rainbow', alpha=0.8)\n",
    "plt.xlabel('First principal component')\n",
    "plt.ylabel('Second Principal Component')"
   ]
  },
  {
   "cell_type": "markdown",
   "id": "b2a866ed",
   "metadata": {},
   "source": [
    "## GaussianMixture"
   ]
  },
  {
   "cell_type": "code",
   "execution_count": 46,
   "id": "d0a1cf0a",
   "metadata": {},
   "outputs": [],
   "source": [
    "# Получение распределения от GaussianMixture\n",
    "from sklearn.mixture import GaussianMixture\n",
    "gmm = GaussianMixture(3, covariance_type='full', random_state=0).fit(x_pca)\n",
    "\n",
    "labels3 = gmm.predict(x_pca)"
   ]
  },
  {
   "cell_type": "code",
   "execution_count": 47,
   "id": "9ba8cc8b",
   "metadata": {},
   "outputs": [
    {
     "data": {
      "text/plain": [
       "0    439789\n",
       "2    201455\n",
       "1     86901\n",
       "dtype: int64"
      ]
     },
     "execution_count": 47,
     "metadata": {},
     "output_type": "execute_result"
    }
   ],
   "source": [
    "labels3 = pd.Series(labels3)\n",
    "labels3.value_counts()"
   ]
  },
  {
   "cell_type": "markdown",
   "id": "1aee8182",
   "metadata": {},
   "source": [
    "### График GaussianMixture"
   ]
  },
  {
   "cell_type": "code",
   "execution_count": 49,
   "id": "44f3be91",
   "metadata": {},
   "outputs": [
    {
     "data": {
      "text/plain": [
       "Text(0, 0.5, 'Second Principal Component')"
      ]
     },
     "execution_count": 49,
     "metadata": {},
     "output_type": "execute_result"
    },
    {
     "data": {
      "image/png": "[encoded data removed]",
      "text/plain": [
       "<Figure size 864x576 with 1 Axes>"
      ]
     },
     "metadata": {
      "needs_background": "light"
     },
     "output_type": "display_data"
    }
   ],
   "source": [
    "plt.figure(figsize=(12,8))\n",
    "plt.scatter(x_pca[:,0],x_pca[:,1],c=labels3,cmap='rainbow', alpha=0.4)\n",
    "plt.xlabel('First principal component')\n",
    "plt.ylabel('Second Principal Component')"
   ]
  },
  {
   "cell_type": "markdown",
   "id": "710954c8",
   "metadata": {},
   "source": [
    "## 2.3 Разбиение набора данных"
   ]
  },
  {
   "cell_type": "markdown",
   "id": "b4099cc9",
   "metadata": {},
   "source": [
    "### Обычно данные разбиваются в соотношениях 66/33, 70/30 или 80/20 в зависимости от объема данных, как рекомендуется в множестве пособий, я же буду использовать 70/30 как нечто среднее и оптимальное для большинства случаев"
   ]
  },
  {
   "cell_type": "code",
   "execution_count": 50,
   "id": "f3d8295b",
   "metadata": {},
   "outputs": [],
   "source": [
    "from sklearn.model_selection import train_test_split\n",
    "\n",
    "X = df2\n",
    "y = label\n",
    "\n",
    "X_train, X_test, y_train, y_test = train_test_split(X, y, test_size=0.3, random_state=0)"
   ]
  },
  {
   "cell_type": "code",
   "execution_count": 51,
   "id": "fde83199",
   "metadata": {},
   "outputs": [],
   "source": [
    "# Импорт метрик\n",
    "from sklearn import metrics"
   ]
  },
  {
   "cell_type": "code",
   "execution_count": 54,
   "id": "83c050ad",
   "metadata": {},
   "outputs": [
    {
     "name": "stdout",
     "output_type": "stream",
     "text": [
      "метрики kmeans = 562638.4478850845\n",
      "метрики Birch = 31875.137232032343\n",
      "метрики GaussianMixture = 391416.17605215183\n"
     ]
    }
   ],
   "source": [
    "print('метрики kmeans = ' + str(metrics.calinski_harabasz_score(x_pca, label)) + '\\n' +\n",
    "     'метрики Birch = ' + str(metrics.calinski_harabasz_score(x_pca, label2)) + '\\n' +\n",
    "      'метрики GaussianMixture = ' + str(metrics.calinski_harabasz_score(x_pca, labels3)))"
   ]
  },
  {
   "cell_type": "markdown",
   "id": "6280dfca",
   "metadata": {},
   "source": [
    "### метрики Calinski-Harabasz чем больше значение, тем лучше получилось распределение, поэтому выбор пал на kmeans"
   ]
  },
  {
   "cell_type": "markdown",
   "id": "5951ec7a",
   "metadata": {},
   "source": [
    "## Обозначение и именование кластеров"
   ]
  },
  {
   "cell_type": "code",
   "execution_count": 56,
   "id": "47b56711",
   "metadata": {},
   "outputs": [],
   "source": [
    "# Добавление кластеров в датафрейм\n",
    "df2['cluster'] = label"
   ]
  },
  {
   "cell_type": "markdown",
   "id": "4f292169",
   "metadata": {},
   "source": [
    "### Просмотр того, как распределились данные по кластерам"
   ]
  },
  {
   "cell_type": "code",
   "execution_count": 58,
   "id": "3716503e",
   "metadata": {},
   "outputs": [
    {
     "data": {
      "text/html": [
       "<div>\n",
       "<style scoped>\n",
       "    .dataframe tbody tr th:only-of-type {\n",
       "        vertical-align: middle;\n",
       "    }\n",
       "\n",
       "    .dataframe tbody tr th {\n",
       "        vertical-align: top;\n",
       "    }\n",
       "\n",
       "    .dataframe thead th {\n",
       "        text-align: right;\n",
       "    }\n",
       "</style>\n",
       "<table border=\"1\" class=\"dataframe\">\n",
       "  <thead>\n",
       "    <tr style=\"text-align: right;\">\n",
       "      <th></th>\n",
       "      <th>properties.tags</th>\n",
       "      <th>properties.light</th>\n",
       "      <th>properties.nearby</th>\n",
       "      <th>properties.weather</th>\n",
       "      <th>properties.category</th>\n",
       "      <th>properties.severity</th>\n",
       "      <th>properties.dead_count</th>\n",
       "      <th>properties.injured_count</th>\n",
       "      <th>properties.road_conditions</th>\n",
       "      <th>properties.participants_count</th>\n",
       "      <th>properties.participant_categories</th>\n",
       "      <th>index_of_danger</th>\n",
       "      <th>cluster</th>\n",
       "    </tr>\n",
       "  </thead>\n",
       "  <tbody>\n",
       "    <tr>\n",
       "      <th>count</th>\n",
       "      <td>366051.000000</td>\n",
       "      <td>366051.000000</td>\n",
       "      <td>366051.000000</td>\n",
       "      <td>366051.000000</td>\n",
       "      <td>366051.000000</td>\n",
       "      <td>366051.000000</td>\n",
       "      <td>366051.000000</td>\n",
       "      <td>366051.000000</td>\n",
       "      <td>366051.000000</td>\n",
       "      <td>366051.000000</td>\n",
       "      <td>366051.000000</td>\n",
       "      <td>366051.000000</td>\n",
       "      <td>366051.0</td>\n",
       "    </tr>\n",
       "    <tr>\n",
       "      <th>mean</th>\n",
       "      <td>0.090627</td>\n",
       "      <td>2.359906</td>\n",
       "      <td>23121.156219</td>\n",
       "      <td>19.039003</td>\n",
       "      <td>15.509350</td>\n",
       "      <td>1.337344</td>\n",
       "      <td>0.000576</td>\n",
       "      <td>1.572305</td>\n",
       "      <td>3026.217778</td>\n",
       "      <td>2.912247</td>\n",
       "      <td>9.616163</td>\n",
       "      <td>0.051423</td>\n",
       "      <td>0.0</td>\n",
       "    </tr>\n",
       "    <tr>\n",
       "      <th>std</th>\n",
       "      <td>0.287439</td>\n",
       "      <td>1.190713</td>\n",
       "      <td>10772.591688</td>\n",
       "      <td>7.784741</td>\n",
       "      <td>1.641918</td>\n",
       "      <td>0.473889</td>\n",
       "      <td>0.027503</td>\n",
       "      <td>1.059076</td>\n",
       "      <td>1498.226505</td>\n",
       "      <td>1.291077</td>\n",
       "      <td>6.963780</td>\n",
       "      <td>0.182003</td>\n",
       "      <td>0.0</td>\n",
       "    </tr>\n",
       "    <tr>\n",
       "      <th>min</th>\n",
       "      <td>0.000000</td>\n",
       "      <td>0.000000</td>\n",
       "      <td>0.000000</td>\n",
       "      <td>0.000000</td>\n",
       "      <td>0.000000</td>\n",
       "      <td>1.000000</td>\n",
       "      <td>0.000000</td>\n",
       "      <td>0.000000</td>\n",
       "      <td>0.000000</td>\n",
       "      <td>1.000000</td>\n",
       "      <td>0.000000</td>\n",
       "      <td>0.000072</td>\n",
       "      <td>0.0</td>\n",
       "    </tr>\n",
       "    <tr>\n",
       "      <th>25%</th>\n",
       "      <td>0.000000</td>\n",
       "      <td>2.000000</td>\n",
       "      <td>14202.000000</td>\n",
       "      <td>10.000000</td>\n",
       "      <td>16.000000</td>\n",
       "      <td>1.000000</td>\n",
       "      <td>0.000000</td>\n",
       "      <td>1.000000</td>\n",
       "      <td>2309.000000</td>\n",
       "      <td>2.000000</td>\n",
       "      <td>7.000000</td>\n",
       "      <td>0.001570</td>\n",
       "      <td>0.0</td>\n",
       "    </tr>\n",
       "    <tr>\n",
       "      <th>50%</th>\n",
       "      <td>0.000000</td>\n",
       "      <td>3.000000</td>\n",
       "      <td>26424.000000</td>\n",
       "      <td>25.000000</td>\n",
       "      <td>16.000000</td>\n",
       "      <td>1.000000</td>\n",
       "      <td>0.000000</td>\n",
       "      <td>1.000000</td>\n",
       "      <td>3893.000000</td>\n",
       "      <td>3.000000</td>\n",
       "      <td>7.000000</td>\n",
       "      <td>0.006838</td>\n",
       "      <td>0.0</td>\n",
       "    </tr>\n",
       "    <tr>\n",
       "      <th>75%</th>\n",
       "      <td>0.000000</td>\n",
       "      <td>3.000000</td>\n",
       "      <td>33815.000000</td>\n",
       "      <td>25.000000</td>\n",
       "      <td>16.000000</td>\n",
       "      <td>2.000000</td>\n",
       "      <td>0.000000</td>\n",
       "      <td>2.000000</td>\n",
       "      <td>3893.000000</td>\n",
       "      <td>3.000000</td>\n",
       "      <td>7.000000</td>\n",
       "      <td>0.029605</td>\n",
       "      <td>0.0</td>\n",
       "    </tr>\n",
       "    <tr>\n",
       "      <th>max</th>\n",
       "      <td>3.000000</td>\n",
       "      <td>4.000000</td>\n",
       "      <td>33815.000000</td>\n",
       "      <td>31.000000</td>\n",
       "      <td>17.000000</td>\n",
       "      <td>3.000000</td>\n",
       "      <td>4.000000</td>\n",
       "      <td>57.000000</td>\n",
       "      <td>4681.000000</td>\n",
       "      <td>59.000000</td>\n",
       "      <td>50.000000</td>\n",
       "      <td>7.758621</td>\n",
       "      <td>0.0</td>\n",
       "    </tr>\n",
       "  </tbody>\n",
       "</table>\n",
       "</div>"
      ],
      "text/plain": [
       "       properties.tags  properties.light  properties.nearby  \\\n",
       "count    366051.000000     366051.000000      366051.000000   \n",
       "mean          0.090627          2.359906       23121.156219   \n",
       "std           0.287439          1.190713       10772.591688   \n",
       "min           0.000000          0.000000           0.000000   \n",
       "25%           0.000000          2.000000       14202.000000   \n",
       "50%           0.000000          3.000000       26424.000000   \n",
       "75%           0.000000          3.000000       33815.000000   \n",
       "max           3.000000          4.000000       33815.000000   \n",
       "\n",
       "       properties.weather  properties.category  properties.severity  \\\n",
       "count       366051.000000        366051.000000        366051.000000   \n",
       "mean            19.039003            15.509350             1.337344   \n",
       "std              7.784741             1.641918             0.473889   \n",
       "min              0.000000             0.000000             1.000000   \n",
       "25%             10.000000            16.000000             1.000000   \n",
       "50%             25.000000            16.000000             1.000000   \n",
       "75%             25.000000            16.000000             2.000000   \n",
       "max             31.000000            17.000000             3.000000   \n",
       "\n",
       "       properties.dead_count  properties.injured_count  \\\n",
       "count          366051.000000             366051.000000   \n",
       "mean                0.000576                  1.572305   \n",
       "std                 0.027503                  1.059076   \n",
       "min                 0.000000                  0.000000   \n",
       "25%                 0.000000                  1.000000   \n",
       "50%                 0.000000                  1.000000   \n",
       "75%                 0.000000                  2.000000   \n",
       "max                 4.000000                 57.000000   \n",
       "\n",
       "       properties.road_conditions  properties.participants_count  \\\n",
       "count               366051.000000                  366051.000000   \n",
       "mean                  3026.217778                       2.912247   \n",
       "std                   1498.226505                       1.291077   \n",
       "min                      0.000000                       1.000000   \n",
       "25%                   2309.000000                       2.000000   \n",
       "50%                   3893.000000                       3.000000   \n",
       "75%                   3893.000000                       3.000000   \n",
       "max                   4681.000000                      59.000000   \n",
       "\n",
       "       properties.participant_categories  index_of_danger   cluster  \n",
       "count                      366051.000000    366051.000000  366051.0  \n",
       "mean                            9.616163         0.051423       0.0  \n",
       "std                             6.963780         0.182003       0.0  \n",
       "min                             0.000000         0.000072       0.0  \n",
       "25%                             7.000000         0.001570       0.0  \n",
       "50%                             7.000000         0.006838       0.0  \n",
       "75%                             7.000000         0.029605       0.0  \n",
       "max                            50.000000         7.758621       0.0  "
      ]
     },
     "execution_count": 58,
     "metadata": {},
     "output_type": "execute_result"
    }
   ],
   "source": [
    "df2[df2['cluster'] == 0].describe()"
   ]
  },
  {
   "cell_type": "code",
   "execution_count": 59,
   "id": "bdaafdda",
   "metadata": {},
   "outputs": [
    {
     "data": {
      "text/html": [
       "<div>\n",
       "<style scoped>\n",
       "    .dataframe tbody tr th:only-of-type {\n",
       "        vertical-align: middle;\n",
       "    }\n",
       "\n",
       "    .dataframe tbody tr th {\n",
       "        vertical-align: top;\n",
       "    }\n",
       "\n",
       "    .dataframe thead th {\n",
       "        text-align: right;\n",
       "    }\n",
       "</style>\n",
       "<table border=\"1\" class=\"dataframe\">\n",
       "  <thead>\n",
       "    <tr style=\"text-align: right;\">\n",
       "      <th></th>\n",
       "      <th>properties.tags</th>\n",
       "      <th>properties.light</th>\n",
       "      <th>properties.nearby</th>\n",
       "      <th>properties.weather</th>\n",
       "      <th>properties.category</th>\n",
       "      <th>properties.severity</th>\n",
       "      <th>properties.dead_count</th>\n",
       "      <th>properties.injured_count</th>\n",
       "      <th>properties.road_conditions</th>\n",
       "      <th>properties.participants_count</th>\n",
       "      <th>properties.participant_categories</th>\n",
       "      <th>index_of_danger</th>\n",
       "      <th>cluster</th>\n",
       "    </tr>\n",
       "  </thead>\n",
       "  <tbody>\n",
       "    <tr>\n",
       "      <th>count</th>\n",
       "      <td>292662.000000</td>\n",
       "      <td>292662.000000</td>\n",
       "      <td>292662.000000</td>\n",
       "      <td>292662.000000</td>\n",
       "      <td>292662.000000</td>\n",
       "      <td>292662.000000</td>\n",
       "      <td>292662.0</td>\n",
       "      <td>292662.000000</td>\n",
       "      <td>292662.000000</td>\n",
       "      <td>292662.000000</td>\n",
       "      <td>292662.000000</td>\n",
       "      <td>292662.000000</td>\n",
       "      <td>292662.0</td>\n",
       "    </tr>\n",
       "    <tr>\n",
       "      <th>mean</th>\n",
       "      <td>0.191832</td>\n",
       "      <td>2.033260</td>\n",
       "      <td>19865.518434</td>\n",
       "      <td>17.965226</td>\n",
       "      <td>9.407063</td>\n",
       "      <td>1.424097</td>\n",
       "      <td>0.0</td>\n",
       "      <td>1.033305</td>\n",
       "      <td>2892.815176</td>\n",
       "      <td>1.899444</td>\n",
       "      <td>30.795532</td>\n",
       "      <td>0.027942</td>\n",
       "      <td>1.0</td>\n",
       "    </tr>\n",
       "    <tr>\n",
       "      <th>std</th>\n",
       "      <td>0.472289</td>\n",
       "      <td>1.368204</td>\n",
       "      <td>10485.889699</td>\n",
       "      <td>8.291488</td>\n",
       "      <td>3.126250</td>\n",
       "      <td>0.494206</td>\n",
       "      <td>0.0</td>\n",
       "      <td>0.181325</td>\n",
       "      <td>1593.317377</td>\n",
       "      <td>0.450834</td>\n",
       "      <td>16.517621</td>\n",
       "      <td>0.106783</td>\n",
       "      <td>0.0</td>\n",
       "    </tr>\n",
       "    <tr>\n",
       "      <th>min</th>\n",
       "      <td>0.000000</td>\n",
       "      <td>0.000000</td>\n",
       "      <td>0.000000</td>\n",
       "      <td>0.000000</td>\n",
       "      <td>0.000000</td>\n",
       "      <td>1.000000</td>\n",
       "      <td>0.0</td>\n",
       "      <td>0.000000</td>\n",
       "      <td>0.000000</td>\n",
       "      <td>1.000000</td>\n",
       "      <td>0.000000</td>\n",
       "      <td>0.000072</td>\n",
       "      <td>1.0</td>\n",
       "    </tr>\n",
       "    <tr>\n",
       "      <th>25%</th>\n",
       "      <td>0.000000</td>\n",
       "      <td>0.000000</td>\n",
       "      <td>10664.000000</td>\n",
       "      <td>10.000000</td>\n",
       "      <td>9.000000</td>\n",
       "      <td>1.000000</td>\n",
       "      <td>0.0</td>\n",
       "      <td>1.000000</td>\n",
       "      <td>894.000000</td>\n",
       "      <td>2.000000</td>\n",
       "      <td>7.000000</td>\n",
       "      <td>0.001098</td>\n",
       "      <td>1.0</td>\n",
       "    </tr>\n",
       "    <tr>\n",
       "      <th>50%</th>\n",
       "      <td>0.000000</td>\n",
       "      <td>3.000000</td>\n",
       "      <td>21232.000000</td>\n",
       "      <td>25.000000</td>\n",
       "      <td>9.000000</td>\n",
       "      <td>1.000000</td>\n",
       "      <td>0.0</td>\n",
       "      <td>1.000000</td>\n",
       "      <td>3893.000000</td>\n",
       "      <td>2.000000</td>\n",
       "      <td>44.000000</td>\n",
       "      <td>0.003984</td>\n",
       "      <td>1.0</td>\n",
       "    </tr>\n",
       "    <tr>\n",
       "      <th>75%</th>\n",
       "      <td>0.000000</td>\n",
       "      <td>3.000000</td>\n",
       "      <td>29391.000000</td>\n",
       "      <td>25.000000</td>\n",
       "      <td>10.000000</td>\n",
       "      <td>2.000000</td>\n",
       "      <td>0.0</td>\n",
       "      <td>1.000000</td>\n",
       "      <td>3893.000000</td>\n",
       "      <td>2.000000</td>\n",
       "      <td>44.000000</td>\n",
       "      <td>0.015579</td>\n",
       "      <td>1.0</td>\n",
       "    </tr>\n",
       "    <tr>\n",
       "      <th>max</th>\n",
       "      <td>3.000000</td>\n",
       "      <td>4.000000</td>\n",
       "      <td>33815.000000</td>\n",
       "      <td>31.000000</td>\n",
       "      <td>17.000000</td>\n",
       "      <td>2.000000</td>\n",
       "      <td>0.0</td>\n",
       "      <td>3.000000</td>\n",
       "      <td>4681.000000</td>\n",
       "      <td>6.000000</td>\n",
       "      <td>50.000000</td>\n",
       "      <td>4.511509</td>\n",
       "      <td>1.0</td>\n",
       "    </tr>\n",
       "  </tbody>\n",
       "</table>\n",
       "</div>"
      ],
      "text/plain": [
       "       properties.tags  properties.light  properties.nearby  \\\n",
       "count    292662.000000     292662.000000      292662.000000   \n",
       "mean          0.191832          2.033260       19865.518434   \n",
       "std           0.472289          1.368204       10485.889699   \n",
       "min           0.000000          0.000000           0.000000   \n",
       "25%           0.000000          0.000000       10664.000000   \n",
       "50%           0.000000          3.000000       21232.000000   \n",
       "75%           0.000000          3.000000       29391.000000   \n",
       "max           3.000000          4.000000       33815.000000   \n",
       "\n",
       "       properties.weather  properties.category  properties.severity  \\\n",
       "count       292662.000000        292662.000000        292662.000000   \n",
       "mean            17.965226             9.407063             1.424097   \n",
       "std              8.291488             3.126250             0.494206   \n",
       "min              0.000000             0.000000             1.000000   \n",
       "25%             10.000000             9.000000             1.000000   \n",
       "50%             25.000000             9.000000             1.000000   \n",
       "75%             25.000000            10.000000             2.000000   \n",
       "max             31.000000            17.000000             2.000000   \n",
       "\n",
       "       properties.dead_count  properties.injured_count  \\\n",
       "count               292662.0             292662.000000   \n",
       "mean                     0.0                  1.033305   \n",
       "std                      0.0                  0.181325   \n",
       "min                      0.0                  0.000000   \n",
       "25%                      0.0                  1.000000   \n",
       "50%                      0.0                  1.000000   \n",
       "75%                      0.0                  1.000000   \n",
       "max                      0.0                  3.000000   \n",
       "\n",
       "       properties.road_conditions  properties.participants_count  \\\n",
       "count               292662.000000                  292662.000000   \n",
       "mean                  2892.815176                       1.899444   \n",
       "std                   1593.317377                       0.450834   \n",
       "min                      0.000000                       1.000000   \n",
       "25%                    894.000000                       2.000000   \n",
       "50%                   3893.000000                       2.000000   \n",
       "75%                   3893.000000                       2.000000   \n",
       "max                   4681.000000                       6.000000   \n",
       "\n",
       "       properties.participant_categories  index_of_danger   cluster  \n",
       "count                      292662.000000    292662.000000  292662.0  \n",
       "mean                           30.795532         0.027942       1.0  \n",
       "std                            16.517621         0.106783       0.0  \n",
       "min                             0.000000         0.000072       1.0  \n",
       "25%                             7.000000         0.001098       1.0  \n",
       "50%                            44.000000         0.003984       1.0  \n",
       "75%                            44.000000         0.015579       1.0  \n",
       "max                            50.000000         4.511509       1.0  "
      ]
     },
     "execution_count": 59,
     "metadata": {},
     "output_type": "execute_result"
    }
   ],
   "source": [
    "df2[df2['cluster'] == 1].describe()"
   ]
  },
  {
   "cell_type": "code",
   "execution_count": 60,
   "id": "71d25140",
   "metadata": {},
   "outputs": [
    {
     "data": {
      "text/html": [
       "<div>\n",
       "<style scoped>\n",
       "    .dataframe tbody tr th:only-of-type {\n",
       "        vertical-align: middle;\n",
       "    }\n",
       "\n",
       "    .dataframe tbody tr th {\n",
       "        vertical-align: top;\n",
       "    }\n",
       "\n",
       "    .dataframe thead th {\n",
       "        text-align: right;\n",
       "    }\n",
       "</style>\n",
       "<table border=\"1\" class=\"dataframe\">\n",
       "  <thead>\n",
       "    <tr style=\"text-align: right;\">\n",
       "      <th></th>\n",
       "      <th>properties.tags</th>\n",
       "      <th>properties.light</th>\n",
       "      <th>properties.nearby</th>\n",
       "      <th>properties.weather</th>\n",
       "      <th>properties.category</th>\n",
       "      <th>properties.severity</th>\n",
       "      <th>properties.dead_count</th>\n",
       "      <th>properties.injured_count</th>\n",
       "      <th>properties.road_conditions</th>\n",
       "      <th>properties.participants_count</th>\n",
       "      <th>properties.participant_categories</th>\n",
       "      <th>index_of_danger</th>\n",
       "      <th>cluster</th>\n",
       "    </tr>\n",
       "  </thead>\n",
       "  <tbody>\n",
       "    <tr>\n",
       "      <th>count</th>\n",
       "      <td>69432.000000</td>\n",
       "      <td>69432.000000</td>\n",
       "      <td>69432.000000</td>\n",
       "      <td>69432.000000</td>\n",
       "      <td>69432.000000</td>\n",
       "      <td>69432.000000</td>\n",
       "      <td>69432.000000</td>\n",
       "      <td>69432.000000</td>\n",
       "      <td>69432.000000</td>\n",
       "      <td>69432.000000</td>\n",
       "      <td>69432.000000</td>\n",
       "      <td>69432.000000</td>\n",
       "      <td>69432.0</td>\n",
       "    </tr>\n",
       "    <tr>\n",
       "      <th>mean</th>\n",
       "      <td>0.100717</td>\n",
       "      <td>2.128529</td>\n",
       "      <td>25291.750634</td>\n",
       "      <td>18.461862</td>\n",
       "      <td>12.385528</td>\n",
       "      <td>2.985353</td>\n",
       "      <td>1.167228</td>\n",
       "      <td>0.737398</td>\n",
       "      <td>3019.000907</td>\n",
       "      <td>2.735453</td>\n",
       "      <td>21.195688</td>\n",
       "      <td>0.193070</td>\n",
       "      <td>2.0</td>\n",
       "    </tr>\n",
       "    <tr>\n",
       "      <th>std</th>\n",
       "      <td>0.342458</td>\n",
       "      <td>1.170190</td>\n",
       "      <td>11214.311445</td>\n",
       "      <td>8.170763</td>\n",
       "      <td>3.759024</td>\n",
       "      <td>0.133968</td>\n",
       "      <td>0.588293</td>\n",
       "      <td>1.290820</td>\n",
       "      <td>1507.451945</td>\n",
       "      <td>1.621378</td>\n",
       "      <td>16.968206</td>\n",
       "      <td>0.831732</td>\n",
       "      <td>0.0</td>\n",
       "    </tr>\n",
       "    <tr>\n",
       "      <th>min</th>\n",
       "      <td>0.000000</td>\n",
       "      <td>0.000000</td>\n",
       "      <td>0.000000</td>\n",
       "      <td>0.000000</td>\n",
       "      <td>0.000000</td>\n",
       "      <td>1.000000</td>\n",
       "      <td>0.000000</td>\n",
       "      <td>0.000000</td>\n",
       "      <td>0.000000</td>\n",
       "      <td>1.000000</td>\n",
       "      <td>0.000000</td>\n",
       "      <td>0.000216</td>\n",
       "      <td>2.0</td>\n",
       "    </tr>\n",
       "    <tr>\n",
       "      <th>25%</th>\n",
       "      <td>0.000000</td>\n",
       "      <td>2.000000</td>\n",
       "      <td>16245.000000</td>\n",
       "      <td>10.000000</td>\n",
       "      <td>9.000000</td>\n",
       "      <td>3.000000</td>\n",
       "      <td>1.000000</td>\n",
       "      <td>0.000000</td>\n",
       "      <td>1532.000000</td>\n",
       "      <td>2.000000</td>\n",
       "      <td>7.000000</td>\n",
       "      <td>0.007481</td>\n",
       "      <td>2.0</td>\n",
       "    </tr>\n",
       "    <tr>\n",
       "      <th>50%</th>\n",
       "      <td>0.000000</td>\n",
       "      <td>3.000000</td>\n",
       "      <td>30907.000000</td>\n",
       "      <td>25.000000</td>\n",
       "      <td>12.000000</td>\n",
       "      <td>3.000000</td>\n",
       "      <td>1.000000</td>\n",
       "      <td>0.000000</td>\n",
       "      <td>3893.000000</td>\n",
       "      <td>2.000000</td>\n",
       "      <td>7.000000</td>\n",
       "      <td>0.027211</td>\n",
       "      <td>2.0</td>\n",
       "    </tr>\n",
       "    <tr>\n",
       "      <th>75%</th>\n",
       "      <td>0.000000</td>\n",
       "      <td>3.000000</td>\n",
       "      <td>33815.000000</td>\n",
       "      <td>25.000000</td>\n",
       "      <td>16.000000</td>\n",
       "      <td>3.000000</td>\n",
       "      <td>1.000000</td>\n",
       "      <td>1.000000</td>\n",
       "      <td>3893.000000</td>\n",
       "      <td>3.000000</td>\n",
       "      <td>44.000000</td>\n",
       "      <td>0.096774</td>\n",
       "      <td>2.0</td>\n",
       "    </tr>\n",
       "    <tr>\n",
       "      <th>max</th>\n",
       "      <td>3.000000</td>\n",
       "      <td>4.000000</td>\n",
       "      <td>33815.000000</td>\n",
       "      <td>31.000000</td>\n",
       "      <td>17.000000</td>\n",
       "      <td>3.000000</td>\n",
       "      <td>19.000000</td>\n",
       "      <td>40.000000</td>\n",
       "      <td>4681.000000</td>\n",
       "      <td>50.000000</td>\n",
       "      <td>50.000000</td>\n",
       "      <td>28.680498</td>\n",
       "      <td>2.0</td>\n",
       "    </tr>\n",
       "  </tbody>\n",
       "</table>\n",
       "</div>"
      ],
      "text/plain": [
       "       properties.tags  properties.light  properties.nearby  \\\n",
       "count     69432.000000      69432.000000       69432.000000   \n",
       "mean          0.100717          2.128529       25291.750634   \n",
       "std           0.342458          1.170190       11214.311445   \n",
       "min           0.000000          0.000000           0.000000   \n",
       "25%           0.000000          2.000000       16245.000000   \n",
       "50%           0.000000          3.000000       30907.000000   \n",
       "75%           0.000000          3.000000       33815.000000   \n",
       "max           3.000000          4.000000       33815.000000   \n",
       "\n",
       "       properties.weather  properties.category  properties.severity  \\\n",
       "count        69432.000000         69432.000000         69432.000000   \n",
       "mean            18.461862            12.385528             2.985353   \n",
       "std              8.170763             3.759024             0.133968   \n",
       "min              0.000000             0.000000             1.000000   \n",
       "25%             10.000000             9.000000             3.000000   \n",
       "50%             25.000000            12.000000             3.000000   \n",
       "75%             25.000000            16.000000             3.000000   \n",
       "max             31.000000            17.000000             3.000000   \n",
       "\n",
       "       properties.dead_count  properties.injured_count  \\\n",
       "count           69432.000000              69432.000000   \n",
       "mean                1.167228                  0.737398   \n",
       "std                 0.588293                  1.290820   \n",
       "min                 0.000000                  0.000000   \n",
       "25%                 1.000000                  0.000000   \n",
       "50%                 1.000000                  0.000000   \n",
       "75%                 1.000000                  1.000000   \n",
       "max                19.000000                 40.000000   \n",
       "\n",
       "       properties.road_conditions  properties.participants_count  \\\n",
       "count                69432.000000                   69432.000000   \n",
       "mean                  3019.000907                       2.735453   \n",
       "std                   1507.451945                       1.621378   \n",
       "min                      0.000000                       1.000000   \n",
       "25%                   1532.000000                       2.000000   \n",
       "50%                   3893.000000                       2.000000   \n",
       "75%                   3893.000000                       3.000000   \n",
       "max                   4681.000000                      50.000000   \n",
       "\n",
       "       properties.participant_categories  index_of_danger  cluster  \n",
       "count                       69432.000000     69432.000000  69432.0  \n",
       "mean                           21.195688         0.193070      2.0  \n",
       "std                            16.968206         0.831732      0.0  \n",
       "min                             0.000000         0.000216      2.0  \n",
       "25%                             7.000000         0.007481      2.0  \n",
       "50%                             7.000000         0.027211      2.0  \n",
       "75%                            44.000000         0.096774      2.0  \n",
       "max                            50.000000        28.680498      2.0  "
      ]
     },
     "execution_count": 60,
     "metadata": {},
     "output_type": "execute_result"
    }
   ],
   "source": [
    "df2[df2['cluster'] == 2].describe()"
   ]
  },
  {
   "cell_type": "markdown",
   "id": "c23600ca",
   "metadata": {},
   "source": [
    "### Просмотрев такие признаки, как properties.dead_count, properties.injured_count и index_of_danger, можно сделать вывод, что\n",
    "### 1 - кластер с наименьшим уровнем опасности\n",
    "### 0 - кластер со средним уровнем опасности\n",
    "### 2 - кластер с наивысшим уровнем опасности, когда почти всегда есть погибшие"
   ]
  },
  {
   "cell_type": "markdown",
   "id": "c41dbf39",
   "metadata": {},
   "source": [
    "## 2.4 Отчет"
   ]
  },
  {
   "cell_type": "markdown",
   "id": "971b579d",
   "metadata": {},
   "source": [
    "### По результатам второй сессии были подготовлены тестовая и обучающая выборки для дальнейшей работы"
   ]
  },
  {
   "cell_type": "markdown",
   "id": "2cd31d26",
   "metadata": {},
   "source": [
    "### В 2.1 был добавлен новый признак, показывающий индекс опасности, что позволило улучшить качество модели"
   ]
  },
  {
   "cell_type": "markdown",
   "id": "08c3aa88",
   "metadata": {},
   "source": [
    "### В 2.2 была проведена кластеризация, по итогам которой данные были разбиты на три кластера с помощью kmeans"
   ]
  },
  {
   "cell_type": "markdown",
   "id": "b6640d74",
   "metadata": {},
   "source": [
    "### В 2.3 Данные были разбиты на тестовую и обучающую выборки в соотношение 70/30, объяснение почему так было в самом задании"
   ]
  }
 ],
 "metadata": {
  "kernelspec": {
   "display_name": "Python 3",
   "language": "python",
   "name": "python3"
  },
  "language_info": {
   "codemirror_mode": {
    "name": "ipython",
    "version": 3
   },
   "file_extension": ".py",
   "mimetype": "text/x-python",
   "name": "python",
   "nbconvert_exporter": "python",
   "pygments_lexer": "ipython3",
   "version": "3.8.8"
  }
 },
 "nbformat": 4,
 "nbformat_minor": 5
}
