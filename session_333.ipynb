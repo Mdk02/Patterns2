{
 "cells": [
  {
   "cell_type": "markdown",
   "id": "32398923",
   "metadata": {},
   "source": [
    "## Импорт нужных библиотек"
   ]
  },
  {
   "cell_type": "code",
   "execution_count": 1,
   "id": "4500524f",
   "metadata": {},
   "outputs": [],
   "source": [
    "# импорт библиотек\n",
    "import pandas as pd\n",
    "import numpy as np\n",
    "import pandas as pd\n",
    "import seaborn as sns\n",
    "import matplotlib.pyplot as plt\n",
    "from sklearn import tree\n",
    "from sklearn.ensemble import RandomForestClassifier\n",
    "from sklearn.naive_bayes import GaussianNB"
   ]
  },
  {
   "cell_type": "markdown",
   "id": "478718d8",
   "metadata": {},
   "source": [
    "## Считывание тренировочных данных"
   ]
  },
  {
   "cell_type": "code",
   "execution_count": 2,
   "id": "57d37441",
   "metadata": {
    "scrolled": true
   },
   "outputs": [
    {
     "data": {
      "text/html": [
       "<div>\n",
       "<style scoped>\n",
       "    .dataframe tbody tr th:only-of-type {\n",
       "        vertical-align: middle;\n",
       "    }\n",
       "\n",
       "    .dataframe tbody tr th {\n",
       "        vertical-align: top;\n",
       "    }\n",
       "\n",
       "    .dataframe thead th {\n",
       "        text-align: right;\n",
       "    }\n",
       "</style>\n",
       "<table border=\"1\" class=\"dataframe\">\n",
       "  <thead>\n",
       "    <tr style=\"text-align: right;\">\n",
       "      <th></th>\n",
       "      <th>properties.tags</th>\n",
       "      <th>properties.light</th>\n",
       "      <th>properties.point.lat</th>\n",
       "      <th>properties.point.long</th>\n",
       "      <th>properties.nearby</th>\n",
       "      <th>properties.weather</th>\n",
       "      <th>properties.category</th>\n",
       "      <th>properties.severity</th>\n",
       "      <th>properties.dead_count</th>\n",
       "      <th>properties.injured_count</th>\n",
       "      <th>properties.road_conditions</th>\n",
       "      <th>properties.participants_count</th>\n",
       "      <th>properties.participant_categories</th>\n",
       "    </tr>\n",
       "  </thead>\n",
       "  <tbody>\n",
       "    <tr>\n",
       "      <th>0</th>\n",
       "      <td>0</td>\n",
       "      <td>0</td>\n",
       "      <td>59.991518</td>\n",
       "      <td>30.434532</td>\n",
       "      <td>27629</td>\n",
       "      <td>0</td>\n",
       "      <td>9</td>\n",
       "      <td>2</td>\n",
       "      <td>0</td>\n",
       "      <td>1</td>\n",
       "      <td>422</td>\n",
       "      <td>2</td>\n",
       "      <td>47</td>\n",
       "    </tr>\n",
       "    <tr>\n",
       "      <th>1</th>\n",
       "      <td>0</td>\n",
       "      <td>3</td>\n",
       "      <td>55.763465</td>\n",
       "      <td>37.603433</td>\n",
       "      <td>11042</td>\n",
       "      <td>25</td>\n",
       "      <td>9</td>\n",
       "      <td>0</td>\n",
       "      <td>0</td>\n",
       "      <td>1</td>\n",
       "      <td>4388</td>\n",
       "      <td>2</td>\n",
       "      <td>17</td>\n",
       "    </tr>\n",
       "    <tr>\n",
       "      <th>2</th>\n",
       "      <td>0</td>\n",
       "      <td>4</td>\n",
       "      <td>51.848107</td>\n",
       "      <td>107.610397</td>\n",
       "      <td>18728</td>\n",
       "      <td>10</td>\n",
       "      <td>16</td>\n",
       "      <td>0</td>\n",
       "      <td>0</td>\n",
       "      <td>1</td>\n",
       "      <td>3932</td>\n",
       "      <td>2</td>\n",
       "      <td>7</td>\n",
       "    </tr>\n",
       "    <tr>\n",
       "      <th>3</th>\n",
       "      <td>0</td>\n",
       "      <td>3</td>\n",
       "      <td>54.523665</td>\n",
       "      <td>52.444070</td>\n",
       "      <td>35142</td>\n",
       "      <td>25</td>\n",
       "      <td>12</td>\n",
       "      <td>1</td>\n",
       "      <td>1</td>\n",
       "      <td>0</td>\n",
       "      <td>3932</td>\n",
       "      <td>1</td>\n",
       "      <td>7</td>\n",
       "    </tr>\n",
       "    <tr>\n",
       "      <th>4</th>\n",
       "      <td>0</td>\n",
       "      <td>3</td>\n",
       "      <td>56.346407</td>\n",
       "      <td>43.921881</td>\n",
       "      <td>23047</td>\n",
       "      <td>25</td>\n",
       "      <td>16</td>\n",
       "      <td>0</td>\n",
       "      <td>0</td>\n",
       "      <td>1</td>\n",
       "      <td>3932</td>\n",
       "      <td>3</td>\n",
       "      <td>7</td>\n",
       "    </tr>\n",
       "  </tbody>\n",
       "</table>\n",
       "</div>"
      ],
      "text/plain": [
       "   properties.tags  properties.light  properties.point.lat  \\\n",
       "0                0                 0             59.991518   \n",
       "1                0                 3             55.763465   \n",
       "2                0                 4             51.848107   \n",
       "3                0                 3             54.523665   \n",
       "4                0                 3             56.346407   \n",
       "\n",
       "   properties.point.long  properties.nearby  properties.weather  \\\n",
       "0              30.434532              27629                   0   \n",
       "1              37.603433              11042                  25   \n",
       "2             107.610397              18728                  10   \n",
       "3              52.444070              35142                  25   \n",
       "4              43.921881              23047                  25   \n",
       "\n",
       "   properties.category  properties.severity  properties.dead_count  \\\n",
       "0                    9                    2                      0   \n",
       "1                    9                    0                      0   \n",
       "2                   16                    0                      0   \n",
       "3                   12                    1                      1   \n",
       "4                   16                    0                      0   \n",
       "\n",
       "   properties.injured_count  properties.road_conditions  \\\n",
       "0                         1                         422   \n",
       "1                         1                        4388   \n",
       "2                         1                        3932   \n",
       "3                         0                        3932   \n",
       "4                         1                        3932   \n",
       "\n",
       "   properties.participants_count  properties.participant_categories  \n",
       "0                              2                                 47  \n",
       "1                              2                                 17  \n",
       "2                              2                                  7  \n",
       "3                              1                                  7  \n",
       "4                              3                                  7  "
      ]
     },
     "execution_count": 2,
     "metadata": {},
     "output_type": "execute_result"
    }
   ],
   "source": [
    "x_train = pd.read_csv('x_train.csv')\n",
    "x_train.head()"
   ]
  },
  {
   "cell_type": "markdown",
   "id": "12f683ae",
   "metadata": {},
   "source": [
    "## Считывание тестовых данных"
   ]
  },
  {
   "cell_type": "code",
   "execution_count": 3,
   "id": "4f2f19fa",
   "metadata": {
    "scrolled": true
   },
   "outputs": [
    {
     "data": {
      "text/html": [
       "<div>\n",
       "<style scoped>\n",
       "    .dataframe tbody tr th:only-of-type {\n",
       "        vertical-align: middle;\n",
       "    }\n",
       "\n",
       "    .dataframe tbody tr th {\n",
       "        vertical-align: top;\n",
       "    }\n",
       "\n",
       "    .dataframe thead th {\n",
       "        text-align: right;\n",
       "    }\n",
       "</style>\n",
       "<table border=\"1\" class=\"dataframe\">\n",
       "  <thead>\n",
       "    <tr style=\"text-align: right;\">\n",
       "      <th></th>\n",
       "      <th>properties.tags</th>\n",
       "      <th>properties.light</th>\n",
       "      <th>properties.point.lat</th>\n",
       "      <th>properties.point.long</th>\n",
       "      <th>properties.nearby</th>\n",
       "      <th>properties.weather</th>\n",
       "      <th>properties.category</th>\n",
       "      <th>properties.severity</th>\n",
       "      <th>properties.dead_count</th>\n",
       "      <th>properties.injured_count</th>\n",
       "      <th>properties.road_conditions</th>\n",
       "      <th>properties.participants_count</th>\n",
       "      <th>properties.participant_categories</th>\n",
       "    </tr>\n",
       "  </thead>\n",
       "  <tbody>\n",
       "    <tr>\n",
       "      <th>0</th>\n",
       "      <td>0</td>\n",
       "      <td>3</td>\n",
       "      <td>57.390000</td>\n",
       "      <td>36.470000</td>\n",
       "      <td>11683</td>\n",
       "      <td>25</td>\n",
       "      <td>12</td>\n",
       "      <td>1</td>\n",
       "      <td>1</td>\n",
       "      <td>1</td>\n",
       "      <td>3932</td>\n",
       "      <td>2</td>\n",
       "      <td>7</td>\n",
       "    </tr>\n",
       "    <tr>\n",
       "      <th>1</th>\n",
       "      <td>0</td>\n",
       "      <td>2</td>\n",
       "      <td>51.391842</td>\n",
       "      <td>80.241416</td>\n",
       "      <td>35142</td>\n",
       "      <td>10</td>\n",
       "      <td>17</td>\n",
       "      <td>0</td>\n",
       "      <td>0</td>\n",
       "      <td>1</td>\n",
       "      <td>3932</td>\n",
       "      <td>2</td>\n",
       "      <td>7</td>\n",
       "    </tr>\n",
       "    <tr>\n",
       "      <th>2</th>\n",
       "      <td>0</td>\n",
       "      <td>3</td>\n",
       "      <td>63.568827</td>\n",
       "      <td>53.658729</td>\n",
       "      <td>24548</td>\n",
       "      <td>25</td>\n",
       "      <td>9</td>\n",
       "      <td>2</td>\n",
       "      <td>0</td>\n",
       "      <td>1</td>\n",
       "      <td>4236</td>\n",
       "      <td>2</td>\n",
       "      <td>47</td>\n",
       "    </tr>\n",
       "    <tr>\n",
       "      <th>3</th>\n",
       "      <td>1</td>\n",
       "      <td>0</td>\n",
       "      <td>58.105200</td>\n",
       "      <td>38.727300</td>\n",
       "      <td>2497</td>\n",
       "      <td>10</td>\n",
       "      <td>9</td>\n",
       "      <td>2</td>\n",
       "      <td>0</td>\n",
       "      <td>1</td>\n",
       "      <td>2355</td>\n",
       "      <td>2</td>\n",
       "      <td>48</td>\n",
       "    </tr>\n",
       "    <tr>\n",
       "      <th>4</th>\n",
       "      <td>0</td>\n",
       "      <td>3</td>\n",
       "      <td>45.111028</td>\n",
       "      <td>43.310595</td>\n",
       "      <td>35142</td>\n",
       "      <td>25</td>\n",
       "      <td>16</td>\n",
       "      <td>2</td>\n",
       "      <td>0</td>\n",
       "      <td>2</td>\n",
       "      <td>3932</td>\n",
       "      <td>4</td>\n",
       "      <td>7</td>\n",
       "    </tr>\n",
       "  </tbody>\n",
       "</table>\n",
       "</div>"
      ],
      "text/plain": [
       "   properties.tags  properties.light  properties.point.lat  \\\n",
       "0                0                 3             57.390000   \n",
       "1                0                 2             51.391842   \n",
       "2                0                 3             63.568827   \n",
       "3                1                 0             58.105200   \n",
       "4                0                 3             45.111028   \n",
       "\n",
       "   properties.point.long  properties.nearby  properties.weather  \\\n",
       "0              36.470000              11683                  25   \n",
       "1              80.241416              35142                  10   \n",
       "2              53.658729              24548                  25   \n",
       "3              38.727300               2497                  10   \n",
       "4              43.310595              35142                  25   \n",
       "\n",
       "   properties.category  properties.severity  properties.dead_count  \\\n",
       "0                   12                    1                      1   \n",
       "1                   17                    0                      0   \n",
       "2                    9                    2                      0   \n",
       "3                    9                    2                      0   \n",
       "4                   16                    2                      0   \n",
       "\n",
       "   properties.injured_count  properties.road_conditions  \\\n",
       "0                         1                        3932   \n",
       "1                         1                        3932   \n",
       "2                         1                        4236   \n",
       "3                         1                        2355   \n",
       "4                         2                        3932   \n",
       "\n",
       "   properties.participants_count  properties.participant_categories  \n",
       "0                              2                                  7  \n",
       "1                              2                                  7  \n",
       "2                              2                                 47  \n",
       "3                              2                                 48  \n",
       "4                              4                                  7  "
      ]
     },
     "execution_count": 3,
     "metadata": {},
     "output_type": "execute_result"
    }
   ],
   "source": [
    "x_test = pd.read_csv('x_test.csv')\n",
    "x_test.head()"
   ]
  },
  {
   "cell_type": "markdown",
   "id": "d27b4fea",
   "metadata": {},
   "source": [
    "## Считывание тренировочных данных, полученные с помощью кластеризации "
   ]
  },
  {
   "cell_type": "code",
   "execution_count": 4,
   "id": "6dd849c3",
   "metadata": {
    "scrolled": true
   },
   "outputs": [
    {
     "data": {
      "text/html": [
       "<div>\n",
       "<style scoped>\n",
       "    .dataframe tbody tr th:only-of-type {\n",
       "        vertical-align: middle;\n",
       "    }\n",
       "\n",
       "    .dataframe tbody tr th {\n",
       "        vertical-align: top;\n",
       "    }\n",
       "\n",
       "    .dataframe thead th {\n",
       "        text-align: right;\n",
       "    }\n",
       "</style>\n",
       "<table border=\"1\" class=\"dataframe\">\n",
       "  <thead>\n",
       "    <tr style=\"text-align: right;\">\n",
       "      <th></th>\n",
       "      <th>label</th>\n",
       "    </tr>\n",
       "  </thead>\n",
       "  <tbody>\n",
       "    <tr>\n",
       "      <th>0</th>\n",
       "      <td>0.0</td>\n",
       "    </tr>\n",
       "    <tr>\n",
       "      <th>1</th>\n",
       "      <td>4.0</td>\n",
       "    </tr>\n",
       "    <tr>\n",
       "      <th>2</th>\n",
       "      <td>1.0</td>\n",
       "    </tr>\n",
       "    <tr>\n",
       "      <th>3</th>\n",
       "      <td>4.0</td>\n",
       "    </tr>\n",
       "    <tr>\n",
       "      <th>4</th>\n",
       "      <td>1.0</td>\n",
       "    </tr>\n",
       "  </tbody>\n",
       "</table>\n",
       "</div>"
      ],
      "text/plain": [
       "   label\n",
       "0    0.0\n",
       "1    4.0\n",
       "2    1.0\n",
       "3    4.0\n",
       "4    1.0"
      ]
     },
     "execution_count": 4,
     "metadata": {},
     "output_type": "execute_result"
    }
   ],
   "source": [
    "y_train = pd.read_csv('y_train.csv', names=['label'])\n",
    "y_train.head()"
   ]
  },
  {
   "cell_type": "markdown",
   "id": "2177d258",
   "metadata": {},
   "source": [
    "## Считывание тестовых данных, полученные с помощью кластеризации"
   ]
  },
  {
   "cell_type": "code",
   "execution_count": 5,
   "id": "06e4717d",
   "metadata": {
    "scrolled": true
   },
   "outputs": [
    {
     "data": {
      "text/html": [
       "<div>\n",
       "<style scoped>\n",
       "    .dataframe tbody tr th:only-of-type {\n",
       "        vertical-align: middle;\n",
       "    }\n",
       "\n",
       "    .dataframe tbody tr th {\n",
       "        vertical-align: top;\n",
       "    }\n",
       "\n",
       "    .dataframe thead th {\n",
       "        text-align: right;\n",
       "    }\n",
       "</style>\n",
       "<table border=\"1\" class=\"dataframe\">\n",
       "  <thead>\n",
       "    <tr style=\"text-align: right;\">\n",
       "      <th></th>\n",
       "      <th>label</th>\n",
       "    </tr>\n",
       "  </thead>\n",
       "  <tbody>\n",
       "    <tr>\n",
       "      <th>0</th>\n",
       "      <td>1.0</td>\n",
       "    </tr>\n",
       "    <tr>\n",
       "      <th>1</th>\n",
       "      <td>1.0</td>\n",
       "    </tr>\n",
       "    <tr>\n",
       "      <th>2</th>\n",
       "      <td>4.0</td>\n",
       "    </tr>\n",
       "    <tr>\n",
       "      <th>3</th>\n",
       "      <td>0.0</td>\n",
       "    </tr>\n",
       "    <tr>\n",
       "      <th>4</th>\n",
       "      <td>1.0</td>\n",
       "    </tr>\n",
       "  </tbody>\n",
       "</table>\n",
       "</div>"
      ],
      "text/plain": [
       "   label\n",
       "0    1.0\n",
       "1    1.0\n",
       "2    4.0\n",
       "3    0.0\n",
       "4    1.0"
      ]
     },
     "execution_count": 5,
     "metadata": {},
     "output_type": "execute_result"
    }
   ],
   "source": [
    "y_test = pd.read_csv('y_test.csv',names=['label'])\n",
    "y_test.head()"
   ]
  },
  {
   "cell_type": "markdown",
   "id": "5576a10a",
   "metadata": {},
   "source": [
    "## Считывание основного датафрейма"
   ]
  },
  {
   "cell_type": "code",
   "execution_count": 6,
   "id": "dd2f73b6",
   "metadata": {},
   "outputs": [
    {
     "data": {
      "text/html": [
       "<div>\n",
       "<style scoped>\n",
       "    .dataframe tbody tr th:only-of-type {\n",
       "        vertical-align: middle;\n",
       "    }\n",
       "\n",
       "    .dataframe tbody tr th {\n",
       "        vertical-align: top;\n",
       "    }\n",
       "\n",
       "    .dataframe thead th {\n",
       "        text-align: right;\n",
       "    }\n",
       "</style>\n",
       "<table border=\"1\" class=\"dataframe\">\n",
       "  <thead>\n",
       "    <tr style=\"text-align: right;\">\n",
       "      <th></th>\n",
       "      <th>properties.tags</th>\n",
       "      <th>properties.light</th>\n",
       "      <th>properties.point.lat</th>\n",
       "      <th>properties.point.long</th>\n",
       "      <th>properties.nearby</th>\n",
       "      <th>properties.region</th>\n",
       "      <th>properties.address</th>\n",
       "      <th>properties.weather</th>\n",
       "      <th>properties.category</th>\n",
       "      <th>properties.datetime</th>\n",
       "      <th>properties.severity</th>\n",
       "      <th>properties.dead_count</th>\n",
       "      <th>properties.injured_count</th>\n",
       "      <th>properties.road_conditions</th>\n",
       "      <th>properties.participants_count</th>\n",
       "      <th>properties.participant_categories</th>\n",
       "      <th>level</th>\n",
       "    </tr>\n",
       "  </thead>\n",
       "  <tbody>\n",
       "    <tr>\n",
       "      <th>0</th>\n",
       "      <td>Дорожно-транспортные происшествия</td>\n",
       "      <td>Светлое время суток</td>\n",
       "      <td>51.783772</td>\n",
       "      <td>115.483775</td>\n",
       "      <td>NaN</td>\n",
       "      <td>Шилкинский район</td>\n",
       "      <td>ДАРАСУН - СОЛНЦЕВО, 143 км</td>\n",
       "      <td>Ясно</td>\n",
       "      <td>Опрокидывание</td>\n",
       "      <td>2019-07-25 16:50:00</td>\n",
       "      <td>С погибшими</td>\n",
       "      <td>1</td>\n",
       "      <td>2</td>\n",
       "      <td>Сухое</td>\n",
       "      <td>3</td>\n",
       "      <td>Все участники</td>\n",
       "      <td>1</td>\n",
       "    </tr>\n",
       "    <tr>\n",
       "      <th>1</th>\n",
       "      <td>Дорожно-транспортные происшествия</td>\n",
       "      <td>Светлое время суток</td>\n",
       "      <td>51.600533</td>\n",
       "      <td>115.405197</td>\n",
       "      <td>NaN</td>\n",
       "      <td>Шилкинский район</td>\n",
       "      <td>ПЕРВОМАЙСК - ЦАГАН-ОЛУЙ - КОНДУЙ, 32 км</td>\n",
       "      <td>Ясно</td>\n",
       "      <td>Опрокидывание</td>\n",
       "      <td>2020-05-16 18:00:00</td>\n",
       "      <td>Тяжёлый</td>\n",
       "      <td>0</td>\n",
       "      <td>2</td>\n",
       "      <td>Сухое</td>\n",
       "      <td>2</td>\n",
       "      <td>Все участники</td>\n",
       "      <td>1</td>\n",
       "    </tr>\n",
       "    <tr>\n",
       "      <th>2</th>\n",
       "      <td>Дорожно-транспортные происшествия</td>\n",
       "      <td>В темное время суток, освещение отсутствует</td>\n",
       "      <td>52.045523</td>\n",
       "      <td>115.939236</td>\n",
       "      <td>Мост,Нерегулируемый перекрёсток</td>\n",
       "      <td>Шилкинский район</td>\n",
       "      <td>Р-297 Амур Чита - Невер - Свободный - Архара -...</td>\n",
       "      <td>Пасмурно</td>\n",
       "      <td>Столкновение</td>\n",
       "      <td>2019-10-03 20:00:00</td>\n",
       "      <td>Легкий</td>\n",
       "      <td>0</td>\n",
       "      <td>1</td>\n",
       "      <td>Сухое</td>\n",
       "      <td>3</td>\n",
       "      <td>Все участники</td>\n",
       "      <td>1</td>\n",
       "    </tr>\n",
       "    <tr>\n",
       "      <th>3</th>\n",
       "      <td>Дорожно-транспортные происшествия</td>\n",
       "      <td>В темное время суток, освещение отсутствует</td>\n",
       "      <td>51.902130</td>\n",
       "      <td>116.212864</td>\n",
       "      <td>NaN</td>\n",
       "      <td>Шилкинский район</td>\n",
       "      <td>МОГОЙТУЙ - СРЕТЕНСК - ОЛОЧИ, 137 км</td>\n",
       "      <td>Ясно</td>\n",
       "      <td>Столкновение</td>\n",
       "      <td>2020-11-18 22:00:00</td>\n",
       "      <td>С погибшими</td>\n",
       "      <td>2</td>\n",
       "      <td>0</td>\n",
       "      <td>Сухое,Недостатки зимнего содержания</td>\n",
       "      <td>3</td>\n",
       "      <td>Мотоциклисты,Все участники</td>\n",
       "      <td>1</td>\n",
       "    </tr>\n",
       "    <tr>\n",
       "      <th>4</th>\n",
       "      <td>Дорожно-транспортные происшествия</td>\n",
       "      <td>Светлое время суток</td>\n",
       "      <td>51.775183</td>\n",
       "      <td>115.854371</td>\n",
       "      <td>Жилые дома индивидуальной застройки</td>\n",
       "      <td>Шилкинский район</td>\n",
       "      <td>с Казаново, ул Чапаева, 24</td>\n",
       "      <td>Ясно</td>\n",
       "      <td>Съезд с дороги</td>\n",
       "      <td>2021-01-31 05:00:00</td>\n",
       "      <td>Легкий</td>\n",
       "      <td>0</td>\n",
       "      <td>2</td>\n",
       "      <td>Заснеженное</td>\n",
       "      <td>2</td>\n",
       "      <td>Все участники</td>\n",
       "      <td>1</td>\n",
       "    </tr>\n",
       "  </tbody>\n",
       "</table>\n",
       "</div>"
      ],
      "text/plain": [
       "                     properties.tags  \\\n",
       "0  Дорожно-транспортные происшествия   \n",
       "1  Дорожно-транспортные происшествия   \n",
       "2  Дорожно-транспортные происшествия   \n",
       "3  Дорожно-транспортные происшествия   \n",
       "4  Дорожно-транспортные происшествия   \n",
       "\n",
       "                              properties.light  properties.point.lat  \\\n",
       "0                          Светлое время суток             51.783772   \n",
       "1                          Светлое время суток             51.600533   \n",
       "2  В темное время суток, освещение отсутствует             52.045523   \n",
       "3  В темное время суток, освещение отсутствует             51.902130   \n",
       "4                          Светлое время суток             51.775183   \n",
       "\n",
       "   properties.point.long                    properties.nearby  \\\n",
       "0             115.483775                                  NaN   \n",
       "1             115.405197                                  NaN   \n",
       "2             115.939236      Мост,Нерегулируемый перекрёсток   \n",
       "3             116.212864                                  NaN   \n",
       "4             115.854371  Жилые дома индивидуальной застройки   \n",
       "\n",
       "  properties.region                                 properties.address  \\\n",
       "0  Шилкинский район                         ДАРАСУН - СОЛНЦЕВО, 143 км   \n",
       "1  Шилкинский район            ПЕРВОМАЙСК - ЦАГАН-ОЛУЙ - КОНДУЙ, 32 км   \n",
       "2  Шилкинский район  Р-297 Амур Чита - Невер - Свободный - Архара -...   \n",
       "3  Шилкинский район                МОГОЙТУЙ - СРЕТЕНСК - ОЛОЧИ, 137 км   \n",
       "4  Шилкинский район                         с Казаново, ул Чапаева, 24   \n",
       "\n",
       "  properties.weather properties.category  properties.datetime  \\\n",
       "0               Ясно       Опрокидывание  2019-07-25 16:50:00   \n",
       "1               Ясно       Опрокидывание  2020-05-16 18:00:00   \n",
       "2           Пасмурно        Столкновение  2019-10-03 20:00:00   \n",
       "3               Ясно        Столкновение  2020-11-18 22:00:00   \n",
       "4               Ясно      Съезд с дороги  2021-01-31 05:00:00   \n",
       "\n",
       "  properties.severity  properties.dead_count  properties.injured_count  \\\n",
       "0         С погибшими                      1                         2   \n",
       "1             Тяжёлый                      0                         2   \n",
       "2              Легкий                      0                         1   \n",
       "3         С погибшими                      2                         0   \n",
       "4              Легкий                      0                         2   \n",
       "\n",
       "            properties.road_conditions  properties.participants_count  \\\n",
       "0                                Сухое                              3   \n",
       "1                                Сухое                              2   \n",
       "2                                Сухое                              3   \n",
       "3  Сухое,Недостатки зимнего содержания                              3   \n",
       "4                          Заснеженное                              2   \n",
       "\n",
       "  properties.participant_categories  level  \n",
       "0                     Все участники      1  \n",
       "1                     Все участники      1  \n",
       "2                     Все участники      1  \n",
       "3        Мотоциклисты,Все участники      1  \n",
       "4                     Все участники      1  "
      ]
     },
     "execution_count": 6,
     "metadata": {},
     "output_type": "execute_result"
    }
   ],
   "source": [
    "df = pd.read_csv('df.csv') # незакодированный dataframe\n",
    "df.head()"
   ]
  },
  {
   "cell_type": "code",
   "execution_count": 12,
   "id": "e80336d8",
   "metadata": {},
   "outputs": [
    {
     "data": {
      "text/html": [
       "<div>\n",
       "<style scoped>\n",
       "    .dataframe tbody tr th:only-of-type {\n",
       "        vertical-align: middle;\n",
       "    }\n",
       "\n",
       "    .dataframe tbody tr th {\n",
       "        vertical-align: top;\n",
       "    }\n",
       "\n",
       "    .dataframe thead th {\n",
       "        text-align: right;\n",
       "    }\n",
       "</style>\n",
       "<table border=\"1\" class=\"dataframe\">\n",
       "  <thead>\n",
       "    <tr style=\"text-align: right;\">\n",
       "      <th></th>\n",
       "      <th>properties.tags</th>\n",
       "      <th>properties.light</th>\n",
       "      <th>properties.point.lat</th>\n",
       "      <th>properties.point.long</th>\n",
       "      <th>properties.nearby</th>\n",
       "      <th>properties.weather</th>\n",
       "      <th>properties.category</th>\n",
       "      <th>properties.severity</th>\n",
       "      <th>properties.dead_count</th>\n",
       "      <th>properties.injured_count</th>\n",
       "      <th>properties.road_conditions</th>\n",
       "      <th>properties.participants_count</th>\n",
       "      <th>properties.participant_categories</th>\n",
       "    </tr>\n",
       "  </thead>\n",
       "  <tbody>\n",
       "    <tr>\n",
       "      <th>0</th>\n",
       "      <td>0</td>\n",
       "      <td>3</td>\n",
       "      <td>51.783772</td>\n",
       "      <td>115.483775</td>\n",
       "      <td>35142</td>\n",
       "      <td>25</td>\n",
       "      <td>12</td>\n",
       "      <td>1</td>\n",
       "      <td>1</td>\n",
       "      <td>2</td>\n",
       "      <td>3932</td>\n",
       "      <td>3</td>\n",
       "      <td>7</td>\n",
       "    </tr>\n",
       "    <tr>\n",
       "      <th>1</th>\n",
       "      <td>0</td>\n",
       "      <td>3</td>\n",
       "      <td>51.600533</td>\n",
       "      <td>115.405197</td>\n",
       "      <td>35142</td>\n",
       "      <td>25</td>\n",
       "      <td>12</td>\n",
       "      <td>2</td>\n",
       "      <td>0</td>\n",
       "      <td>2</td>\n",
       "      <td>3932</td>\n",
       "      <td>2</td>\n",
       "      <td>7</td>\n",
       "    </tr>\n",
       "    <tr>\n",
       "      <th>2</th>\n",
       "      <td>0</td>\n",
       "      <td>2</td>\n",
       "      <td>52.045523</td>\n",
       "      <td>115.939236</td>\n",
       "      <td>28949</td>\n",
       "      <td>10</td>\n",
       "      <td>16</td>\n",
       "      <td>0</td>\n",
       "      <td>0</td>\n",
       "      <td>1</td>\n",
       "      <td>3932</td>\n",
       "      <td>3</td>\n",
       "      <td>7</td>\n",
       "    </tr>\n",
       "    <tr>\n",
       "      <th>3</th>\n",
       "      <td>0</td>\n",
       "      <td>2</td>\n",
       "      <td>51.902130</td>\n",
       "      <td>116.212864</td>\n",
       "      <td>35142</td>\n",
       "      <td>25</td>\n",
       "      <td>16</td>\n",
       "      <td>1</td>\n",
       "      <td>2</td>\n",
       "      <td>0</td>\n",
       "      <td>4059</td>\n",
       "      <td>3</td>\n",
       "      <td>33</td>\n",
       "    </tr>\n",
       "    <tr>\n",
       "      <th>4</th>\n",
       "      <td>0</td>\n",
       "      <td>3</td>\n",
       "      <td>51.775183</td>\n",
       "      <td>115.854371</td>\n",
       "      <td>6254</td>\n",
       "      <td>25</td>\n",
       "      <td>17</td>\n",
       "      <td>0</td>\n",
       "      <td>0</td>\n",
       "      <td>2</td>\n",
       "      <td>82</td>\n",
       "      <td>2</td>\n",
       "      <td>7</td>\n",
       "    </tr>\n",
       "  </tbody>\n",
       "</table>\n",
       "</div>"
      ],
      "text/plain": [
       "   properties.tags  properties.light  properties.point.lat  \\\n",
       "0                0                 3             51.783772   \n",
       "1                0                 3             51.600533   \n",
       "2                0                 2             52.045523   \n",
       "3                0                 2             51.902130   \n",
       "4                0                 3             51.775183   \n",
       "\n",
       "   properties.point.long  properties.nearby  properties.weather  \\\n",
       "0             115.483775              35142                  25   \n",
       "1             115.405197              35142                  25   \n",
       "2             115.939236              28949                  10   \n",
       "3             116.212864              35142                  25   \n",
       "4             115.854371               6254                  25   \n",
       "\n",
       "   properties.category  properties.severity  properties.dead_count  \\\n",
       "0                   12                    1                      1   \n",
       "1                   12                    2                      0   \n",
       "2                   16                    0                      0   \n",
       "3                   16                    1                      2   \n",
       "4                   17                    0                      0   \n",
       "\n",
       "   properties.injured_count  properties.road_conditions  \\\n",
       "0                         2                        3932   \n",
       "1                         2                        3932   \n",
       "2                         1                        3932   \n",
       "3                         0                        4059   \n",
       "4                         2                          82   \n",
       "\n",
       "   properties.participants_count  properties.participant_categories  \n",
       "0                              3                                  7  \n",
       "1                              2                                  7  \n",
       "2                              3                                  7  \n",
       "3                              3                                 33  \n",
       "4                              2                                  7  "
      ]
     },
     "execution_count": 12,
     "metadata": {},
     "output_type": "execute_result"
    }
   ],
   "source": [
    "df2 = pd.read_csv('df2.csv') # закодированный dataframe\n",
    "df2.head()"
   ]
  },
  {
   "cell_type": "code",
   "execution_count": 15,
   "id": "ed6e8155",
   "metadata": {},
   "outputs": [],
   "source": [
    "df2['level'] = df['level']"
   ]
  },
  {
   "cell_type": "markdown",
   "id": "4ae1b246",
   "metadata": {},
   "source": [
    "# 3.1 Визуализация зависимостей данных"
   ]
  },
  {
   "cell_type": "markdown",
   "id": "ebf56dd3",
   "metadata": {},
   "source": [
    "## Отбор 40000 значений в отдельный dataframe для отображения на графике"
   ]
  },
  {
   "cell_type": "code",
   "execution_count": 30,
   "id": "1b3dbdfa",
   "metadata": {},
   "outputs": [],
   "source": [
    "new_df = df2.iloc[0:40000]"
   ]
  },
  {
   "cell_type": "markdown",
   "id": "3548ba32",
   "metadata": {},
   "source": [
    "## Строительство сразу нескольких графиков для уровня и какого-то другого признака"
   ]
  },
  {
   "cell_type": "code",
   "execution_count": 24,
   "id": "0c13120a",
   "metadata": {},
   "outputs": [],
   "source": [
    "#pd.plotting.scatter_matrix(new_df, c=new_df['level'], figsize=(20, 20), hist_kwds={'bins': 20});"
   ]
  },
  {
   "cell_type": "markdown",
   "id": "57096b9c",
   "metadata": {},
   "source": [
    "### Используется scatter, так как можно увидеть зависимость"
   ]
  },
  {
   "cell_type": "code",
   "execution_count": 31,
   "id": "893c7b50",
   "metadata": {},
   "outputs": [
    {
     "data": {
      "image/png": "[encoded data removed]",
      "text/plain": [
       "<Figure size 864x576 with 1 Axes>"
      ]
     },
     "metadata": {
      "needs_background": "light"
     },
     "output_type": "display_data"
    },
    {
     "data": {
      "image/png": "[encoded data removed]",
      "text/plain": [
       "<Figure size 864x576 with 1 Axes>"
      ]
     },
     "metadata": {
      "needs_background": "light"
     },
     "output_type": "display_data"
    },
    {
     "data": {
      "image/png": "[encoded data removed]",
      "text/plain": [
       "<Figure size 864x576 with 1 Axes>"
      ]
     },
     "metadata": {
      "needs_background": "light"
     },
     "output_type": "display_data"
    },
    {
     "data": {
      "image/png": "[encoded data removed]",
      "text/plain": [
       "<Figure size 864x576 with 1 Axes>"
      ]
     },
     "metadata": {
      "needs_background": "light"
     },
     "output_type": "display_data"
    },
    {
     "data": {
      "image/png": "[encoded data removed]",
      "text/plain": [
       "<Figure size 864x576 with 1 Axes>"
      ]
     },
     "metadata": {
      "needs_background": "light"
     },
     "output_type": "display_data"
    },
    {
     "data": {
      "image/png": "[encoded data removed]",
      "text/plain": [
       "<Figure size 864x576 with 1 Axes>"
      ]
     },
     "metadata": {
      "needs_background": "light"
     },
     "output_type": "display_data"
    },
    {
     "data": {
      "image/png": "[encoded data removed]",
      "text/plain": [
       "<Figure size 864x576 with 1 Axes>"
      ]
     },
     "metadata": {
      "needs_background": "light"
     },
     "output_type": "display_data"
    },
    {
     "data": {
      "image/png": "[encoded data removed]",
      "text/plain": [
       "<Figure size 864x576 with 1 Axes>"
      ]
     },
     "metadata": {
      "needs_background": "light"
     },
     "output_type": "display_data"
    },
    {
     "data": {
      "image/png": "[encoded data removed]",
      "text/plain": [
       "<Figure size 864x576 with 1 Axes>"
      ]
     },
     "metadata": {
      "needs_background": "light"
     },
     "output_type": "display_data"
    },
    {
     "data": {
      "image/png": "[encoded data removed]",
      "text/plain": [
       "<Figure size 864x576 with 1 Axes>"
      ]
     },
     "metadata": {
      "needs_background": "light"
     },
     "output_type": "display_data"
    },
    {
     "data": {
      "image/png": "[encoded data removed]",
      "text/plain": [
       "<Figure size 864x576 with 1 Axes>"
      ]
     },
     "metadata": {
      "needs_background": "light"
     },
     "output_type": "display_data"
    },
    {
     "data": {
      "image/png": "[encoded data removed]",
      "text/plain": [
       "<Figure size 864x576 with 1 Axes>"
      ]
     },
     "metadata": {
      "needs_background": "light"
     },
     "output_type": "display_data"
    },
    {
     "data": {
      "image/png": "[encoded data removed]",
      "text/plain": [
       "<Figure size 864x576 with 1 Axes>"
      ]
     },
     "metadata": {
      "needs_background": "light"
     },
     "output_type": "display_data"
    },
    {
     "data": {
      "image/png": "[encoded data removed]",
      "text/plain": [
       "<Figure size 864x576 with 1 Axes>"
      ]
     },
     "metadata": {
      "needs_background": "light"
     },
     "output_type": "display_data"
    }
   ],
   "source": [
    "# Проход в цикле по столбцам датафрейма\n",
    "for i in new_df.columns:\n",
    "    plt.figure(figsize=(12,8))\n",
    "    plt.scatter(new_df['level'], new_df[i]);\n",
    "    plt.xlabel('level')\n",
    "    plt.ylabel(i)"
   ]
  },
  {
   "cell_type": "markdown",
   "id": "0e6b71ea",
   "metadata": {},
   "source": [
    "### уровень опасности зависит от tags(показателя), dead_count(количества мертвых), injured_count(количества раненых), participant_categories(категории участников), road_confitions(состояния дороги) - тк кластеры распределяются неравномерно, в остальных же случаях графики у всех кластеров почти одинаковые"
   ]
  },
  {
   "cell_type": "markdown",
   "id": "06b29e7d",
   "metadata": {},
   "source": [
    "# 3.2 Классификация дорожных объектов"
   ]
  },
  {
   "cell_type": "markdown",
   "id": "a1de3878",
   "metadata": {},
   "source": [
    "## Используемые модели"
   ]
  },
  {
   "cell_type": "markdown",
   "id": "13074cdd",
   "metadata": {},
   "source": [
    "### DecisionTreeClassifier - "
   ]
  },
  {
   "cell_type": "markdown",
   "id": "9ffbcaca",
   "metadata": {},
   "source": [
    "Дерево решений - это древовидная структура, подобная блок-схеме, в которой внутренний узел представляет функцию (или атрибут), ветвь представляет правило принятия решений, а каждый конечный узел представляет результат. Самый верхний узел в дереве решений известен как корневой узел. Он учится разделять на основе значения атрибута. Он разбивает дерево рекурсивным способом, называемым рекурсивным разделением. Эта структура, похожая на блок-схему, поможет вам в принятии решений. "
   ]
  },
  {
   "cell_type": "markdown",
   "id": "6e13a582",
   "metadata": {},
   "source": [
    "### GaussianNB - "
   ]
  },
  {
   "cell_type": "markdown",
   "id": "bc136266",
   "metadata": {},
   "source": [
    "Наивные байесовские алгоритмы - это группа алгоритмов классификации с контролируемым машинным обучением, основанных на теореме Байеса. Это простой метод классификации, но обладающий высокой функциональностью. Они находят применение, когда размерность входных данных высока. Сложные задачи классификации также могут быть реализованы с помощью наивного байесовского классификатора."
   ]
  },
  {
   "cell_type": "markdown",
   "id": "ce765320",
   "metadata": {},
   "source": [
    "### RandomForestClassifier - "
   ]
  },
  {
   "cell_type": "markdown",
   "id": "9ce7e612",
   "metadata": {},
   "source": [
    "Случайный лес - это контролируемый алгоритм машинного обучения, используемый для решения задач классификации, а также регрессии. Это тип метода обучения в ансамбле, при котором из обучающего набора данных создается несколько деревьев решений, и большинство результатов из них рассматривается как "
   ]
  },
  {
   "cell_type": "markdown",
   "id": "f841529e",
   "metadata": {},
   "source": [
    "### Эти модели используются из-за хорошей работы на большом объеме данных и простоты их использования"
   ]
  },
  {
   "cell_type": "markdown",
   "id": "a242186a",
   "metadata": {},
   "source": [
    "# 3.3 Обучение моделей классификации"
   ]
  },
  {
   "cell_type": "markdown",
   "id": "b6d2703d",
   "metadata": {},
   "source": [
    "### DecisionTreeClassifier"
   ]
  },
  {
   "cell_type": "code",
   "execution_count": 11,
   "id": "e8a9c85b",
   "metadata": {
    "scrolled": true
   },
   "outputs": [
    {
     "name": "stdout",
     "output_type": "stream",
     "text": [
      "0.974274383334786\n"
     ]
    }
   ],
   "source": [
    "Model1 = tree.DecisionTreeClassifier(criterion='gini')\n",
    "Model1.fit(x_train, y_train['label'])\n",
    "print(Model1.score(x_test,y_test['label']))"
   ]
  },
  {
   "cell_type": "markdown",
   "id": "b6a3eab4",
   "metadata": {},
   "source": [
    "### GaussianNB"
   ]
  },
  {
   "cell_type": "code",
   "execution_count": 12,
   "id": "545abb8d",
   "metadata": {
    "scrolled": true
   },
   "outputs": [
    {
     "name": "stdout",
     "output_type": "stream",
     "text": [
      "0.8558441558441559\n"
     ]
    }
   ],
   "source": [
    "Model2 = GaussianNB()\n",
    "Model2.fit(x_train, y_train['label'])\n",
    "print(Model2.score(x_test, y_test['label']))"
   ]
  },
  {
   "cell_type": "markdown",
   "id": "6fdf6c87",
   "metadata": {},
   "source": [
    "### RandomForestClassifier"
   ]
  },
  {
   "cell_type": "code",
   "execution_count": 22,
   "id": "3a13b5c5",
   "metadata": {},
   "outputs": [
    {
     "name": "stdout",
     "output_type": "stream",
     "text": [
      "0.9842935587902031\n"
     ]
    }
   ],
   "source": [
    "model3 = RandomForestClassifier()\n",
    "model3.fit(x_train, y_train['label'])\n",
    "print(model3.score(x_test,y_test['label']))"
   ]
  },
  {
   "cell_type": "markdown",
   "id": "bf169deb",
   "metadata": {},
   "source": [
    "## выбираю модель 3, так как ее score наибольший, и сохраняю ее"
   ]
  },
  {
   "cell_type": "code",
   "execution_count": 14,
   "id": "59606ec9",
   "metadata": {},
   "outputs": [],
   "source": [
    "import pickle"
   ]
  },
  {
   "cell_type": "code",
   "execution_count": 23,
   "id": "489866eb",
   "metadata": {},
   "outputs": [],
   "source": [
    "filename = \"result_model.sav\"\n",
    "pickle.dump(model3, open(filename, 'wb'))"
   ]
  },
  {
   "cell_type": "code",
   "execution_count": 24,
   "id": "ce564827",
   "metadata": {
    "scrolled": true
   },
   "outputs": [
    {
     "name": "stdout",
     "output_type": "stream",
     "text": [
      "0.9842935587902031\n"
     ]
    }
   ],
   "source": [
    "loaded_model = pickle.load(open(filename, 'rb'))\n",
    "result = loaded_model.score(x_test, y_test['label'])\n",
    "print(result)"
   ]
  },
  {
   "cell_type": "markdown",
   "id": "4cace091",
   "metadata": {},
   "source": [
    "# 3.5 Визуализация данных по географическим признакам"
   ]
  },
  {
   "cell_type": "markdown",
   "id": "0ba1fe5d",
   "metadata": {},
   "source": [
    "## Импортирование библиотеки для работы с картой и создание самой карты"
   ]
  },
  {
   "cell_type": "code",
   "execution_count": 7,
   "id": "fe68d066",
   "metadata": {},
   "outputs": [],
   "source": [
    "import folium as f\n",
    "\n",
    "# Выбираю координаты Москвы\n",
    "m = f.Map(location = [55.7, 37.6])"
   ]
  },
  {
   "cell_type": "markdown",
   "id": "91a16121",
   "metadata": {},
   "source": [
    "## Создание отдельного датафрейма, полученного из основного по определенным условиям"
   ]
  },
  {
   "cell_type": "code",
   "execution_count": 19,
   "id": "0927b052",
   "metadata": {},
   "outputs": [],
   "source": [
    "# Уровень опасности равен макс и смертей больше 1\n",
    "samiy_opasniy = df[(df['level'] == 3) & (df['properties.dead_count'] >= 1)]"
   ]
  },
  {
   "cell_type": "markdown",
   "id": "f26ea218",
   "metadata": {},
   "source": [
    "## Добавление маркеров по координатам"
   ]
  },
  {
   "cell_type": "code",
   "execution_count": 20,
   "id": "6e3adfd5",
   "metadata": {},
   "outputs": [],
   "source": [
    "for index, row in samiy_opasniy.iterrows():\n",
    "    f.Marker(\n",
    "        location=[row['properties.point.lat'], row['properties.point.long']],\n",
    "        icon=f.Icon(color=\"red\", icon=\"info-sign\")\n",
    "    ).add_to(m)"
   ]
  },
  {
   "cell_type": "markdown",
   "id": "0e15bb5f",
   "metadata": {},
   "source": [
    "## Запуск карты"
   ]
  },
  {
   "cell_type": "code",
   "execution_count": null,
   "id": "2bf42178",
   "metadata": {},
   "outputs": [],
   "source": [
    "m # запуск карты"
   ]
  },
  {
   "cell_type": "markdown",
   "id": "d52c8217",
   "metadata": {},
   "source": [
    "# 3.6 Отчет"
   ]
  },
  {
   "cell_type": "markdown",
   "id": "285d4ef5",
   "metadata": {},
   "source": [
    "## В задании 3.1 была сделана визуализация, отображающая зависимость признаков от уровня опасности"
   ]
  },
  {
   "cell_type": "markdown",
   "id": "4cd6ca7b",
   "metadata": {},
   "source": [
    "## В задании 3.2 были выбраны модели, которые будут использоваться для дальнейшего обучения"
   ]
  },
  {
   "cell_type": "markdown",
   "id": "44b3f04c",
   "metadata": {},
   "source": [
    "## В задании 3.3 были обучены модели, а также выбрана модель с наибольшим score"
   ]
  },
  {
   "cell_type": "markdown",
   "id": "dfdb2377",
   "metadata": {},
   "source": [
    "## В задании 3.4 ничего нет, так как будет переобучение"
   ]
  },
  {
   "cell_type": "markdown",
   "id": "4680e763",
   "metadata": {},
   "source": [
    "## В задании 3.5 были отображены опасные аварии на карте"
   ]
  }
 ],
 "metadata": {
  "kernelspec": {
   "display_name": "Python 3 (ipykernel)",
   "language": "python",
   "name": "python3"
  },
  "language_info": {
   "codemirror_mode": {
    "name": "ipython",
    "version": 3
   },
   "file_extension": ".py",
   "mimetype": "text/x-python",
   "name": "python",
   "nbconvert_exporter": "python",
   "pygments_lexer": "ipython3",
   "version": "3.9.7"
  }
 },
 "nbformat": 4,
 "nbformat_minor": 5
}
